{
 "cells": [
  {
   "cell_type": "code",
   "execution_count": 1,
   "metadata": {},
   "outputs": [],
   "source": [
    "import pandas as pd\n",
    "import numpy as np\n",
    "\n",
    "import sklearn\n",
    "from sklearn.model_selection import train_test_split\n",
    "\n",
    "# from sklean.svm import \n",
    "from sklearn.ensemble import RandomForestRegressor\n",
    "\n",
    "import matplotlib.pyplot as plt\n",
    "%matplotlib inline\n",
    "import seaborn as sns; sns.set()\n",
    "\n",
    "import torch\n",
    "import torch.nn as nn\n",
    "\n",
    "from IPython.core.interactiveshell import InteractiveShell\n",
    "InteractiveShell.ast_node_interactivity = \"all\"\n",
    "\n",
    "\n",
    "seed = 3"
   ]
  },
  {
   "cell_type": "markdown",
   "metadata": {},
   "source": [
    "# Train, test MLP re: predicting lineup `diff_pts` from clusters (non-bpm and bpm weighted)\n",
    "\n"
   ]
  },
  {
   "cell_type": "code",
   "execution_count": 53,
   "metadata": {},
   "outputs": [
    {
     "data": {
      "text/plain": [
       "lineup\n",
       "B. Coles | A. Henderson | J. Jackson | D. Mutombo ATL 2000   -2.1\n",
       "A. Henderson | J. Jackson | D. Mutombo | I. Rider ATL 2000   -1.3\n",
       "B. Coles | A. Henderson | D. Mutombo | I. Rider ATL 2000     -1.1\n",
       "B. Coles | J. Jackson | D. Mutombo | I. Rider ATL 2000       -1.6\n",
       "B. Coles | A. Henderson | J. Jackson | I. Rider ATL 2000     -1.5\n",
       "                                                             ... \n",
       "T. Ariza | B. Beal | T. Bryant | T. Satoranský WAS 2019      -0.5\n",
       "B. Beal | T. Bryant | J. Green | T. Satoranský WAS 2019      -1.3\n",
       "T. Ariza | T. Bryant | J. Green | T. Satoranský WAS 2019     -0.4\n",
       "B. Beal | M. Morris | O. Porter | J. Wall WAS 2019           -0.8\n",
       "T. Ariza | B. Beal | J. Green | B. Portis WAS 2019           -0.9\n",
       "Name: diff_pts, Length: 5222, dtype: float64"
      ]
     },
     "execution_count": 53,
     "metadata": {},
     "output_type": "execute_result"
    }
   ],
   "source": [
    "### Need the mean and std of lineup pt diffs\n",
    "\n",
    "y5.mean()\n",
    "y5.std()\n",
    "\n",
    "y4.mean()\n",
    "y4.std()"
   ]
  },
  {
   "cell_type": "markdown",
   "metadata": {},
   "source": [
    "### TRAINING LOOP (brought to top of page)"
   ]
  },
  {
   "cell_type": "code",
   "execution_count": 25,
   "metadata": {},
   "outputs": [],
   "source": [
    "### LOAD 4man DATA\n",
    "\n",
    "df4 = pd.read_csv('../datasets/master_4man_lineup_clusters_2000_2020.csv', index_col=0)\n",
    "cluster_cols = [f'cluster_{n}' for n in range(12)]\n",
    "bpm_cluster_cols = [f'cluster_{n}_bpm' for n in range(12)]\n",
    "\n",
    "X4 = df[cluster_cols]\n",
    "y4 = df['diff_pts']\n",
    "X_train4, X_test4, y_train4, y_test4 = torch_train_test_split(X, y, test_size=0.2, random_state=seed)\n",
    "\n",
    "X_bpm4 = df4[bpm_cluster_cols]\n",
    "y_bpm4 = df4['diff_pts']\n",
    "# X_train_bpm4, X_test_bpm4, y_train_bpm4, y_test_bpm4 = torch_train_test_split(X_bpm, y_bpm, test_size=0.2, random_state=seed)\n",
    "\n",
    "### LOAD 5man DATA\n",
    "df5 = pd.read_csv('../datasets/master_5man_lineup_clusters_2000_2020.csv', index_col=0)\n",
    "X5 = df[cluster_cols]\n",
    "y5 = df['diff_pts']\n",
    "# X_train5, X_test5, y_train5, y_test5 = torch_train_test_split(X, y, test_size=0.2, random_state=seed)\n",
    "\n",
    "X_bpm5 = df5[bpm_cluster_cols]\n",
    "y_bpm5 = df5['diff_pts']\n",
    "# X_train_bpm5, X_test_bpm5, y_train_bpm5, y_test_bpm5 = torch_train_test_split(X_bpm, y_bpm, test_size=0.2, random_state=seed)"
   ]
  },
  {
   "cell_type": "code",
   "execution_count": 44,
   "metadata": {},
   "outputs": [
    {
     "name": "stdout",
     "output_type": "stream",
     "text": [
      "Wall time: 28.2 s\n"
     ]
    },
    {
     "data": {
      "text/plain": [
       "<matplotlib.legend.Legend at 0x1a028c82760>"
      ]
     },
     "execution_count": 44,
     "metadata": {},
     "output_type": "execute_result"
    },
    {
     "data": {
      "image/png": "[encoded data removed]",
      "text/plain": [
       "<Figure size 432x288 with 1 Axes>"
      ]
     },
     "metadata": {},
     "output_type": "display_data"
    }
   ],
   "source": [
    "%%time\n",
    "\n",
    "input_dim = [12]\n",
    "hidden_sizes = [24, 24]\n",
    "output_dim = [1]\n",
    "sizes = input_dim + hidden_sizes + output_dim\n",
    "activation = nn.ReLU\n",
    "mlp = build_MLP(sizes, activation)\n",
    "\n",
    "mlp_learning_rate = 0.0001\n",
    "loss_fn = nn.MSELoss()\n",
    "optimizer = torch.optim.Adam(params=mlp.parameters(), lr=mlp_learning_rate)\n",
    "\n",
    "epochs = 10000\n",
    "\n",
    "X_train_tensor, X_test_tensor, y_train_tensor, y_test_tensor = torch_train_test_split(X5, y5, 0.2, seed)\n",
    "training_losses = []\n",
    "test_losses = {}\n",
    "\n",
    "for epoch in range(epochs):\n",
    "    optimizer.zero_grad()\n",
    "    y_hat = mlp(X_train_tensor)\n",
    "    train_loss = loss_fn(y_hat.reshape(-1), y_train_tensor)\n",
    "    training_losses.append(train_loss.item())    \n",
    "    train_loss.backward()\n",
    "    optimizer.step()\n",
    "    \n",
    "    if epoch%50==0:\n",
    "        with torch.no_grad():\n",
    "            y_hat_test = mlp(X_test_tensor)\n",
    "            test_loss = loss_fn(y_hat_test.reshape(-1), y_test_tensor)\n",
    "            test_losses[epoch] = test_loss.item()\n",
    "\n",
    "        \n",
    "### Plot training results:\n",
    "fig, ax = plt.subplots()\n",
    "train_plot = sns.lineplot(x=[i for i in range(epochs)], y=training_losses, label='Training Loss', ax=ax)\n",
    "test_plot = sns.lineplot(x=test_losses.keys(), y=[test_losses[epoch] for epoch in test_losses.keys()], label='Test Loss', ax=ax)\n",
    "ax.set_title('Loss by epoch: 5-player, non-bpm, 2 hidden layers', fontsize=15)\n",
    "ax.set_ylabel('MSE Loss')\n",
    "ax.set_xlabel('Epoch')\n",
    "plt.tight_layout()\n",
    "\n",
    "plt.legend();"
   ]
  },
  {
   "cell_type": "code",
   "execution_count": 45,
   "metadata": {},
   "outputs": [
    {
     "name": "stdout",
     "output_type": "stream",
     "text": [
      "Wall time: 27.9 s\n"
     ]
    },
    {
     "data": {
      "text/plain": [
       "<matplotlib.legend.Legend at 0x1a0289d5dc0>"
      ]
     },
     "execution_count": 45,
     "metadata": {},
     "output_type": "execute_result"
    },
    {
     "data": {
      "image/png": "[encoded data removed]",
      "text/plain": [
       "<Figure size 432x288 with 1 Axes>"
      ]
     },
     "metadata": {},
     "output_type": "display_data"
    }
   ],
   "source": [
    "%%time\n",
    "\n",
    "input_dim = [12]\n",
    "hidden_sizes = [24, 24]\n",
    "output_dim = [1]\n",
    "sizes = input_dim + hidden_sizes + output_dim\n",
    "activation = nn.ReLU\n",
    "mlp = build_MLP(sizes, activation)\n",
    "\n",
    "mlp_learning_rate = 0.0001\n",
    "loss_fn = nn.MSELoss()\n",
    "optimizer = torch.optim.Adam(params=mlp.parameters(), lr=mlp_learning_rate)\n",
    "\n",
    "epochs = 10000\n",
    "\n",
    "X_train_tensor, X_test_tensor, y_train_tensor, y_test_tensor = torch_train_test_split(X4, y4, 0.2, seed)\n",
    "training_losses = []\n",
    "test_losses = {}\n",
    "\n",
    "for epoch in range(epochs):\n",
    "    optimizer.zero_grad()\n",
    "    y_hat = mlp(X_train_tensor)\n",
    "    train_loss = loss_fn(y_hat.reshape(-1), y_train_tensor)\n",
    "    training_losses.append(train_loss.item())    \n",
    "    train_loss.backward()\n",
    "    optimizer.step()\n",
    "    \n",
    "    if epoch%50==0:\n",
    "        with torch.no_grad():\n",
    "            y_hat_test = mlp(X_test_tensor)\n",
    "            test_loss = loss_fn(y_hat_test.reshape(-1), y_test_tensor)\n",
    "            test_losses[epoch] = test_loss.item()\n",
    "\n",
    "        \n",
    "### Plot training results:\n",
    "fig, ax = plt.subplots()\n",
    "train_plot = sns.lineplot(x=[i for i in range(epochs)], y=training_losses, label='Training Loss', ax=ax)\n",
    "test_plot = sns.lineplot(x=test_losses.keys(), y=[test_losses[epoch] for epoch in test_losses.keys()], label='Test Loss', ax=ax)\n",
    "ax.set_title('Loss by epoch: 4-player, non-bpm, 2 hidden layers', fontsize=15)\n",
    "ax.set_ylabel('MSE Loss')\n",
    "ax.set_xlabel('Epoch')\n",
    "plt.tight_layout()\n",
    "\n",
    "plt.legend();"
   ]
  },
  {
   "cell_type": "code",
   "execution_count": 48,
   "metadata": {},
   "outputs": [
    {
     "name": "stdout",
     "output_type": "stream",
     "text": [
      "Wall time: 23.2 s\n"
     ]
    },
    {
     "data": {
      "text/plain": [
       "<matplotlib.legend.Legend at 0x1a028d35700>"
      ]
     },
     "execution_count": 48,
     "metadata": {},
     "output_type": "execute_result"
    },
    {
     "data": {
      "image/png": "[encoded data removed]",
      "text/plain": [
       "<Figure size 432x288 with 1 Axes>"
      ]
     },
     "metadata": {},
     "output_type": "display_data"
    }
   ],
   "source": [
    "%%time\n",
    "\n",
    "input_dim = [12]\n",
    "hidden_sizes = [24, 24]\n",
    "output_dim = [1]\n",
    "sizes = input_dim + hidden_sizes + output_dim\n",
    "activation = nn.ReLU\n",
    "mlp = build_MLP(sizes, activation)\n",
    "\n",
    "mlp_learning_rate = 0.0001\n",
    "loss_fn = nn.MSELoss()\n",
    "optimizer = torch.optim.Adam(params=mlp.parameters(), lr=mlp_learning_rate)\n",
    "\n",
    "epochs = 10000\n",
    "\n",
    "X_train_tensor, X_test_tensor, y_train_tensor, y_test_tensor = torch_train_test_split(X_bpm5, y_bpm5, 0.2, seed)\n",
    "training_losses = []\n",
    "test_losses = {}\n",
    "\n",
    "for epoch in range(epochs):\n",
    "    optimizer.zero_grad()\n",
    "    y_hat = mlp(X_train_tensor)\n",
    "    train_loss = loss_fn(y_hat.reshape(-1), y_train_tensor)\n",
    "    training_losses.append(train_loss.item())    \n",
    "    train_loss.backward()\n",
    "    optimizer.step()\n",
    "    \n",
    "    if epoch%50==0:\n",
    "        with torch.no_grad():\n",
    "            y_hat_test = mlp(X_test_tensor)\n",
    "            test_loss = loss_fn(y_hat_test.reshape(-1), y_test_tensor)\n",
    "            test_losses[epoch] = test_loss.item()\n",
    "\n",
    "        \n",
    "### Plot training results:\n",
    "fig, ax = plt.subplots()\n",
    "train_plot = sns.lineplot(x=[i for i in range(epochs)], y=training_losses, label='Training Loss', ax=ax)\n",
    "test_plot = sns.lineplot(x=test_losses.keys(), y=[test_losses[epoch] for epoch in test_losses.keys()], label='Test Loss', ax=ax)\n",
    "ax.set_title('Loss by epoch: 5-player, bpm, 2 hidden layers', fontsize=15)\n",
    "ax.set_ylabel('MSE Loss')\n",
    "ax.set_xlabel('Epoch')\n",
    "plt.tight_layout()\n",
    "\n",
    "plt.legend();"
   ]
  },
  {
   "cell_type": "code",
   "execution_count": 49,
   "metadata": {},
   "outputs": [
    {
     "name": "stdout",
     "output_type": "stream",
     "text": [
      "Wall time: 31.8 s\n"
     ]
    },
    {
     "data": {
      "text/plain": [
       "<matplotlib.legend.Legend at 0x1a028c829d0>"
      ]
     },
     "execution_count": 49,
     "metadata": {},
     "output_type": "execute_result"
    },
    {
     "data": {
      "image/png": "[encoded data removed]",
      "text/plain": [
       "<Figure size 432x288 with 1 Axes>"
      ]
     },
     "metadata": {},
     "output_type": "display_data"
    }
   ],
   "source": [
    "%%time\n",
    "\n",
    "input_dim = [12]\n",
    "hidden_sizes = [24, 24]\n",
    "output_dim = [1]\n",
    "sizes = input_dim + hidden_sizes + output_dim\n",
    "activation = nn.ReLU\n",
    "mlp = build_MLP(sizes, activation)\n",
    "\n",
    "mlp_learning_rate = 0.0001\n",
    "loss_fn = nn.MSELoss()\n",
    "optimizer = torch.optim.Adam(params=mlp.parameters(), lr=mlp_learning_rate)\n",
    "\n",
    "epochs = 10000\n",
    "\n",
    "X_train_tensor, X_test_tensor, y_train_tensor, y_test_tensor = torch_train_test_split(X_bpm4, y_bpm4, 0.2, seed)\n",
    "training_losses = []\n",
    "test_losses = {}\n",
    "\n",
    "for epoch in range(epochs):\n",
    "    optimizer.zero_grad()\n",
    "    y_hat = mlp(X_train_tensor)\n",
    "    train_loss = loss_fn(y_hat.reshape(-1), y_train_tensor)\n",
    "    training_losses.append(train_loss.item())    \n",
    "    train_loss.backward()\n",
    "    optimizer.step()\n",
    "    \n",
    "    if epoch%50==0:\n",
    "        with torch.no_grad():\n",
    "            y_hat_test = mlp(X_test_tensor)\n",
    "            test_loss = loss_fn(y_hat_test.reshape(-1), y_test_tensor)\n",
    "            test_losses[epoch] = test_loss.item()\n",
    "\n",
    "        \n",
    "### Plot training results:\n",
    "fig, ax = plt.subplots()\n",
    "train_plot = sns.lineplot(x=[i for i in range(epochs)], y=training_losses, label='Training Loss', ax=ax)\n",
    "test_plot = sns.lineplot(x=test_losses.keys(), y=[test_losses[epoch] for epoch in test_losses.keys()], label='Test Loss', ax=ax)\n",
    "ax.set_title('Loss by epoch: 4-player, bpm, 2 hidden layers', fontsize=15)\n",
    "ax.set_ylabel('MSE Loss')\n",
    "ax.set_xlabel('Epoch')\n",
    "plt.tight_layout()\n",
    "\n",
    "plt.legend();"
   ]
  },
  {
   "cell_type": "code",
   "execution_count": 50,
   "metadata": {},
   "outputs": [
    {
     "name": "stdout",
     "output_type": "stream",
     "text": [
      "Wall time: 2min 25s\n"
     ]
    },
    {
     "data": {
      "text/plain": [
       "<matplotlib.legend.Legend at 0x1a028ce5b20>"
      ]
     },
     "execution_count": 50,
     "metadata": {},
     "output_type": "execute_result"
    },
    {
     "data": {
      "image/png": "[encoded data removed]",
      "text/plain": [
       "<Figure size 432x288 with 1 Axes>"
      ]
     },
     "metadata": {},
     "output_type": "display_data"
    }
   ],
   "source": [
    "%%time\n",
    "\n",
    "input_dim = [12]\n",
    "hidden_sizes = [24, 24, 72, 72, 24, 24]\n",
    "output_dim = [1]\n",
    "sizes = input_dim + hidden_sizes + output_dim\n",
    "activation = nn.ReLU\n",
    "mlp = build_MLP(sizes, activation)\n",
    "\n",
    "mlp_learning_rate = 0.0001\n",
    "loss_fn = nn.MSELoss()\n",
    "optimizer = torch.optim.Adam(params=mlp.parameters(), lr=mlp_learning_rate)\n",
    "\n",
    "epochs = 10000\n",
    "\n",
    "X_train_tensor, X_test_tensor, y_train_tensor, y_test_tensor = torch_train_test_split(X_bpm4, y_bpm4, 0.2, seed)\n",
    "training_losses = []\n",
    "test_losses = {}\n",
    "\n",
    "for epoch in range(epochs):\n",
    "    optimizer.zero_grad()\n",
    "    y_hat = mlp(X_train_tensor)\n",
    "    train_loss = loss_fn(y_hat.reshape(-1), y_train_tensor)\n",
    "    training_losses.append(train_loss.item())    \n",
    "    train_loss.backward()\n",
    "    optimizer.step()\n",
    "    \n",
    "    if epoch%50==0:\n",
    "        with torch.no_grad():\n",
    "            y_hat_test = mlp(X_test_tensor)\n",
    "            test_loss = loss_fn(y_hat_test.reshape(-1), y_test_tensor)\n",
    "            test_losses[epoch] = test_loss.item()\n",
    "\n",
    "        \n",
    "### Plot training results:\n",
    "fig, ax = plt.subplots()\n",
    "train_plot = sns.lineplot(x=[i for i in range(epochs)], y=training_losses, label='Training Loss', ax=ax)\n",
    "test_plot = sns.lineplot(x=test_losses.keys(), y=[test_losses[epoch] for epoch in test_losses.keys()], label='Test Loss', ax=ax)\n",
    "ax.set_title('Loss by epoch: 4-player, bpm, 7 hidden layers', fontsize=15)\n",
    "ax.set_ylabel('MSE Loss')\n",
    "ax.set_xlabel('Epoch')\n",
    "plt.tight_layout()\n",
    "\n",
    "plt.legend();"
   ]
  },
  {
   "cell_type": "code",
   "execution_count": 52,
   "metadata": {},
   "outputs": [
    {
     "name": "stdout",
     "output_type": "stream",
     "text": [
      "Wall time: 52min 37s\n"
     ]
    },
    {
     "data": {
      "text/plain": [
       "<matplotlib.legend.Legend at 0x1a028b0b3a0>"
      ]
     },
     "execution_count": 52,
     "metadata": {},
     "output_type": "execute_result"
    },
    {
     "data": {
      "image/png": "[encoded data removed]",
      "text/plain": [
       "<Figure size 432x288 with 1 Axes>"
      ]
     },
     "metadata": {},
     "output_type": "display_data"
    }
   ],
   "source": [
    "%%time\n",
    "### HUGE NETWORK\n",
    "input_dim = [12]\n",
    "hidden_sizes = [24, 256, 512, 512, 512, 256, 24]\n",
    "output_dim = [1]\n",
    "sizes = input_dim + hidden_sizes + output_dim\n",
    "activation = nn.ReLU\n",
    "mlp = build_MLP(sizes, activation)\n",
    "\n",
    "mlp_learning_rate = 0.0001\n",
    "loss_fn = nn.MSELoss()\n",
    "optimizer = torch.optim.Adam(params=mlp.parameters(), lr=mlp_learning_rate)\n",
    "\n",
    "epochs = 10000\n",
    "\n",
    "X_train_tensor, X_test_tensor, y_train_tensor, y_test_tensor = torch_train_test_split(X_bpm4, y_bpm4, 0.2, seed)\n",
    "training_losses = []\n",
    "test_losses = {}\n",
    "\n",
    "for epoch in range(epochs):\n",
    "    optimizer.zero_grad()\n",
    "    y_hat = mlp(X_train_tensor)\n",
    "    train_loss = loss_fn(y_hat.reshape(-1), y_train_tensor)\n",
    "    training_losses.append(train_loss.item())    \n",
    "    train_loss.backward()\n",
    "    optimizer.step()\n",
    "    \n",
    "    if epoch%50==0:\n",
    "        with torch.no_grad():\n",
    "            y_hat_test = mlp(X_test_tensor)\n",
    "            test_loss = loss_fn(y_hat_test.reshape(-1), y_test_tensor)\n",
    "            test_losses[epoch] = test_loss.item()\n",
    "\n",
    "        \n",
    "### Plot training results:\n",
    "fig, ax = plt.subplots()\n",
    "train_plot = sns.lineplot(x=[i for i in range(epochs)], y=training_losses, label='Training Loss', ax=ax)\n",
    "test_plot = sns.lineplot(x=test_losses.keys(), y=[test_losses[epoch] for epoch in test_losses.keys()], label='Test Loss', ax=ax)\n",
    "ax.set_title('Loss by epoch: 4-player, bpm, 8 deep hidden layers', fontsize=15)\n",
    "ax.set_ylabel('MSE Loss')\n",
    "ax.set_xlabel('Epoch')\n",
    "plt.tight_layout()\n",
    "\n",
    "plt.legend()\n",
    "fig.savefig(\"../plots/training_plots/4man_bpm_deepnet.png\", bbox_inches='tight');"
   ]
  },
  {
   "cell_type": "code",
   "execution_count": 59,
   "metadata": {},
   "outputs": [],
   "source": [
    "fig.savefig(\"../plots/training_plots/4man_bpm_deepnet.png\", bbox_inches='tight')"
   ]
  },
  {
   "cell_type": "markdown",
   "metadata": {},
   "source": [
    "# Prior work below"
   ]
  },
  {
   "cell_type": "markdown",
   "metadata": {},
   "source": [
    "## Create X, y, and train test split partition"
   ]
  },
  {
   "cell_type": "code",
   "execution_count": 3,
   "metadata": {},
   "outputs": [],
   "source": [
    "df = pd.read_csv('../datasets/master_4man_lineup_clusters_2000_2020.csv', index_col=0)\n",
    "# df.sort_values(by='diff_pts')\n",
    "\n",
    "cluster_cols = [f'cluster_{n}' for n in range(12)]\n",
    "X = df[cluster_cols]\n",
    "# X\n",
    "y = df['diff_pts']\n",
    "# y.sort_values()\n",
    "\n",
    "X_train, X_test, y_train, y_test = train_test_split(X, y, test_size=0.2, random_state=seed)\n"
   ]
  },
  {
   "cell_type": "code",
   "execution_count": 4,
   "metadata": {},
   "outputs": [
    {
     "data": {
      "text/plain": [
       "lineup\n",
       "M. World Peace | E. Brand | R. Brown | D. Simpkins CHI 2000             -23.4\n",
       "K. Bryant | J. Clarkson | R. Hibbert | D. Russell LAL 2016              -22.5\n",
       "J. Clarkson | R. Hibbert | J. Randle | L. Williams LAL 2016             -20.1\n",
       "T. Hardaway | K. Knox | E. Mudiay | N. Vonleh NYK 2019                  -18.9\n",
       "K. Durant | J. Green | T. Sefolosha | R. Westbrook OKC 2009             -18.3\n",
       "                                                                         ... \n",
       "M. World Peace | J. Foster | R. Miller | J. Tinsley IND 2004             23.5\n",
       "M. Dellavedova | L. James | K. Love | T. Thompson CLE 2016               25.4\n",
       "S. Curry | D. Green | D. Lee | K. Thompson GSW 2014                      26.4\n",
       "D. Gallinari | S. Gilgeous-Alexander | C. Paul | D. Schröder OKC 2020    26.7\n",
       "R. Alston | C. Hayes | T. McGrady | Y. Ming HOU 2007                     27.1\n",
       "Name: diff_pts, Length: 1045, dtype: float64"
      ]
     },
     "execution_count": 4,
     "metadata": {},
     "output_type": "execute_result"
    }
   ],
   "source": [
    "# y_train.sort_values()\n",
    "y_test.sort_values()"
   ]
  },
  {
   "cell_type": "markdown",
   "metadata": {},
   "source": [
    "## Build MLP"
   ]
  },
  {
   "cell_type": "code",
   "execution_count": 5,
   "metadata": {},
   "outputs": [],
   "source": [
    "def build_MLP(sizes, activation, output_activation=nn.Identity):\n",
    "    layers = []\n",
    "    for i in range(len(sizes)-1):\n",
    "        active_fn = activation if i < len(sizes) - 2 else output_activation\n",
    "        layers += [nn.Linear(in_features=sizes[i], out_features=sizes[i+1]), active_fn()]\n",
    "    mlp = nn.Sequential(*layers)\n",
    "    return mlp"
   ]
  },
  {
   "cell_type": "markdown",
   "metadata": {},
   "source": [
    "### Train and test the 3-layer mlp"
   ]
  },
  {
   "cell_type": "code",
   "execution_count": 6,
   "metadata": {},
   "outputs": [
    {
     "data": {
      "text/plain": [
       "Sequential(\n",
       "  (0): Linear(in_features=12, out_features=24, bias=True)\n",
       "  (1): ReLU()\n",
       "  (2): Linear(in_features=24, out_features=24, bias=True)\n",
       "  (3): ReLU()\n",
       "  (4): Linear(in_features=24, out_features=1, bias=True)\n",
       "  (5): Identity()\n",
       ")"
      ]
     },
     "execution_count": 6,
     "metadata": {},
     "output_type": "execute_result"
    }
   ],
   "source": [
    "input_dim = [12]\n",
    "hidden_sizes = [24, 24]\n",
    "output_dim = [1]\n",
    "sizes = input_dim + hidden_sizes + output_dim\n",
    "activation = nn.ReLU\n",
    "\n",
    "mlp = build_MLP(sizes, activation)\n",
    "mlp"
   ]
  },
  {
   "cell_type": "code",
   "execution_count": 7,
   "metadata": {},
   "outputs": [],
   "source": [
    "# X_train_tensor = torch.tensor(X_train.to_numpy(), dtype=torch.float32)\n",
    "# X_train_tensor[0]\n",
    "\n",
    "def torch_train_test_split(X, y, test_size, random_state=3):\n",
    "    X_train, X_test, y_train, y_test = train_test_split(X, y, test_size=test_size, random_state=random_state)\n",
    "    datasets = []\n",
    "    for dataset in [X_train, X_test, y_train, y_test]:\n",
    "        datasets.append(torch.tensor(dataset.to_numpy(), dtype=torch.float32))        \n",
    "    return datasets\n",
    "    "
   ]
  },
  {
   "cell_type": "code",
   "execution_count": 9,
   "metadata": {},
   "outputs": [
    {
     "ename": "KeyboardInterrupt",
     "evalue": "",
     "output_type": "error",
     "traceback": [
      "\u001b[1;31m---------------------------------------------------------------------------\u001b[0m",
      "\u001b[1;31mKeyboardInterrupt\u001b[0m                         Traceback (most recent call last)",
      "\u001b[1;32m<timed exec>\u001b[0m in \u001b[0;36m<module>\u001b[1;34m\u001b[0m\n",
      "\u001b[1;32m~\\anaconda3\\envs\\nba\\lib\\site-packages\\torch\\tensor.py\u001b[0m in \u001b[0;36mbackward\u001b[1;34m(self, gradient, retain_graph, create_graph)\u001b[0m\n\u001b[0;32m    219\u001b[0m                 \u001b[0mretain_graph\u001b[0m\u001b[1;33m=\u001b[0m\u001b[0mretain_graph\u001b[0m\u001b[1;33m,\u001b[0m\u001b[1;33m\u001b[0m\u001b[1;33m\u001b[0m\u001b[0m\n\u001b[0;32m    220\u001b[0m                 create_graph=create_graph)\n\u001b[1;32m--> 221\u001b[1;33m         \u001b[0mtorch\u001b[0m\u001b[1;33m.\u001b[0m\u001b[0mautograd\u001b[0m\u001b[1;33m.\u001b[0m\u001b[0mbackward\u001b[0m\u001b[1;33m(\u001b[0m\u001b[0mself\u001b[0m\u001b[1;33m,\u001b[0m \u001b[0mgradient\u001b[0m\u001b[1;33m,\u001b[0m \u001b[0mretain_graph\u001b[0m\u001b[1;33m,\u001b[0m \u001b[0mcreate_graph\u001b[0m\u001b[1;33m)\u001b[0m\u001b[1;33m\u001b[0m\u001b[1;33m\u001b[0m\u001b[0m\n\u001b[0m\u001b[0;32m    222\u001b[0m \u001b[1;33m\u001b[0m\u001b[0m\n\u001b[0;32m    223\u001b[0m     \u001b[1;32mdef\u001b[0m \u001b[0mregister_hook\u001b[0m\u001b[1;33m(\u001b[0m\u001b[0mself\u001b[0m\u001b[1;33m,\u001b[0m \u001b[0mhook\u001b[0m\u001b[1;33m)\u001b[0m\u001b[1;33m:\u001b[0m\u001b[1;33m\u001b[0m\u001b[1;33m\u001b[0m\u001b[0m\n",
      "\u001b[1;32m~\\anaconda3\\envs\\nba\\lib\\site-packages\\torch\\autograd\\__init__.py\u001b[0m in \u001b[0;36mbackward\u001b[1;34m(tensors, grad_tensors, retain_graph, create_graph, grad_variables)\u001b[0m\n\u001b[0;32m    128\u001b[0m         \u001b[0mretain_graph\u001b[0m \u001b[1;33m=\u001b[0m \u001b[0mcreate_graph\u001b[0m\u001b[1;33m\u001b[0m\u001b[1;33m\u001b[0m\u001b[0m\n\u001b[0;32m    129\u001b[0m \u001b[1;33m\u001b[0m\u001b[0m\n\u001b[1;32m--> 130\u001b[1;33m     Variable._execution_engine.run_backward(\n\u001b[0m\u001b[0;32m    131\u001b[0m         \u001b[0mtensors\u001b[0m\u001b[1;33m,\u001b[0m \u001b[0mgrad_tensors_\u001b[0m\u001b[1;33m,\u001b[0m \u001b[0mretain_graph\u001b[0m\u001b[1;33m,\u001b[0m \u001b[0mcreate_graph\u001b[0m\u001b[1;33m,\u001b[0m\u001b[1;33m\u001b[0m\u001b[1;33m\u001b[0m\u001b[0m\n\u001b[0;32m    132\u001b[0m         allow_unreachable=True)  # allow_unreachable flag\n",
      "\u001b[1;31mKeyboardInterrupt\u001b[0m: "
     ]
    }
   ],
   "source": [
    "%%time\n",
    "\n",
    "input_dim = [12]\n",
    "hidden_sizes = [24, 24]\n",
    "output_dim = [1]\n",
    "sizes = input_dim + hidden_sizes + output_dim\n",
    "activation = nn.ReLU\n",
    "\n",
    "mlp = build_MLP(sizes, activation)\n",
    "# mlp\n",
    "\n",
    "\n",
    "mlp_learning_rate = 0.0001\n",
    "loss_fn = nn.MSELoss()\n",
    "optimizer = torch.optim.Adam(params=mlp.parameters(), lr=mlp_learning_rate)\n",
    "\n",
    "epochs = 10_000\n",
    "\n",
    "X_train_tensor, X_test_tensor, y_train_tensor, y_test_tensor = torch_train_test_split(X, y, 0.2, seed)\n",
    "training_losses = []\n",
    "test_losses = {}\n",
    "for epoch in range(epochs):\n",
    "    optimizer.zero_grad()\n",
    "    y_hat = mlp(X_train_tensor)\n",
    "    train_loss = loss_fn(y_hat.reshape(-1), y_train_tensor)\n",
    "    training_losses.append(train_loss.item())    \n",
    "#         print('EPOCH:', epoch, end='   |   ')\n",
    "#         print('LOSS:', loss.item())\n",
    "    train_loss.backward()\n",
    "    optimizer.step()\n",
    "    \n",
    "    if epoch%1_000==0:\n",
    "        y_hat_test = mlp(X_test_tensor)\n",
    "        test_loss = loss_fn(y_hat_test.reshape(-1), y_test_tensor)\n",
    "        test_losses[epoch] = test_loss.item()\n",
    "\n",
    "        \n",
    "### Plot training results:\n",
    "train_plot = sns.lineplot(x=[i for i in range(epochs)], y=training_losses, label='Training Loss')\n",
    "plt.tight_layout()\n",
    "train_plot.set_title('Loss by epoch', fontsize=18)\n",
    "train_plot.set_ylabel('MSE Loss')\n",
    "train_plot.set_xlabel('Epoch')\n",
    "\n",
    "test_plot = sns.lineplot(x=test_losses.keys(), y=[test_losses[epoch] for epoch in test_losses.keys()], label='Test Loss')\n",
    "plt.tight_layout()\n",
    "# test_plot.set_title('', fontsize=18)\n",
    "test_plot.set_ylabel('MSE Loss')\n",
    "test_plot.set_xlabel('Epoch')\n",
    "\n",
    "plt.legend();"
   ]
  },
  {
   "cell_type": "markdown",
   "metadata": {},
   "source": [
    "### Train for 3k epochs"
   ]
  },
  {
   "cell_type": "code",
   "execution_count": 14,
   "metadata": {},
   "outputs": [
    {
     "name": "stdout",
     "output_type": "stream",
     "text": [
      "Wall time: 30.3 s\n"
     ]
    },
    {
     "data": {
      "text/plain": [
       "<matplotlib.legend.Legend at 0x1a0255abd00>"
      ]
     },
     "execution_count": 14,
     "metadata": {},
     "output_type": "execute_result"
    },
    {
     "data": {
      "image/png": "[encoded data removed]",
      "text/plain": [
       "<Figure size 432x288 with 1 Axes>"
      ]
     },
     "metadata": {},
     "output_type": "display_data"
    }
   ],
   "source": [
    "%%time\n",
    "\n",
    "input_dim = [12]\n",
    "hidden_sizes = [24, 24]\n",
    "output_dim = [1]\n",
    "sizes = input_dim + hidden_sizes + output_dim\n",
    "activation = nn.ReLU\n",
    "mlp = build_MLP(sizes, activation)\n",
    "\n",
    "mlp_learning_rate = 0.0001\n",
    "loss_fn = nn.MSELoss()\n",
    "optimizer = torch.optim.Adam(params=mlp.parameters(), lr=mlp_learning_rate)\n",
    "\n",
    "epochs = 10_000\n",
    "\n",
    "X_train_tensor, X_test_tensor, y_train_tensor, y_test_tensor = torch_train_test_split(X, y, 0.2, seed)\n",
    "training_losses = []\n",
    "test_losses = {}\n",
    "\n",
    "for epoch in range(epochs):\n",
    "    optimizer.zero_grad()\n",
    "    y_hat = mlp(X_train_tensor)\n",
    "    train_loss = loss_fn(y_hat.reshape(-1), y_train_tensor)\n",
    "    training_losses.append(train_loss.item())    \n",
    "    train_loss.backward()\n",
    "    optimizer.step()\n",
    "    \n",
    "    if epoch%100==0:\n",
    "        with torch.no_grad():\n",
    "            y_hat_test = mlp(X_test_tensor)\n",
    "            test_loss = loss_fn(y_hat_test.reshape(-1), y_test_tensor)\n",
    "            test_losses[epoch] = test_loss.item()\n",
    "\n",
    "        \n",
    "### Plot training results:\n",
    "train_plot = sns.lineplot(x=[i for i in range(epochs)], y=training_losses, label='Training Loss')\n",
    "plt.tight_layout()\n",
    "train_plot.set_title('Loss by epoch', fontsize=18)\n",
    "train_plot.set_ylabel('MSE Loss')\n",
    "train_plot.set_xlabel('Epoch')\n",
    "\n",
    "test_plot = sns.lineplot(x=test_losses.keys(), y=[test_losses[epoch] for epoch in test_losses.keys()], label='Test Loss')\n",
    "plt.tight_layout()\n",
    "# test_plot.set_title('', fontsize=18)\n",
    "test_plot.set_ylabel('MSE Loss')\n",
    "test_plot.set_xlabel('Epoch')\n",
    "\n",
    "plt.legend();"
   ]
  },
  {
   "cell_type": "markdown",
   "metadata": {},
   "source": [
    "## Test loss ~53%"
   ]
  },
  {
   "cell_type": "markdown",
   "metadata": {},
   "source": [
    "## Test MLP on held out test data"
   ]
  },
  {
   "cell_type": "code",
   "execution_count": 130,
   "metadata": {},
   "outputs": [
    {
     "name": "stdout",
     "output_type": "stream",
     "text": [
      "53.530799865722656\n"
     ]
    }
   ],
   "source": [
    "y_hat_test = mlp(X_test_tensor)\n",
    "\n",
    "loss = loss_fn(y_hat_test.reshape(-1), y_test_tensor)\n",
    "print(loss.item())"
   ]
  },
  {
   "cell_type": "markdown",
   "metadata": {},
   "source": [
    "## Test Random lineup predictions"
   ]
  },
  {
   "cell_type": "code",
   "execution_count": 163,
   "metadata": {},
   "outputs": [
    {
     "data": {
      "text/plain": [
       "cluster_0     0.085570\n",
       "cluster_1     0.000257\n",
       "cluster_2     0.914418\n",
       "cluster_3     0.000282\n",
       "cluster_4     0.000000\n",
       "cluster_5     0.000359\n",
       "cluster_6     0.999455\n",
       "cluster_7     1.000000\n",
       "cluster_8     0.000005\n",
       "cluster_9     0.000000\n",
       "cluster_10    0.999653\n",
       "cluster_11    0.000000\n",
       "Name: B. Coles | A. Henderson | J. Jackson | D. Mutombo ATL 2000, dtype: float64"
      ]
     },
     "execution_count": 163,
     "metadata": {},
     "output_type": "execute_result"
    }
   ],
   "source": [
    "lineup[cluster_cols].astype(float)"
   ]
  },
  {
   "cell_type": "code",
   "execution_count": 170,
   "metadata": {},
   "outputs": [
    {
     "name": "stdout",
     "output_type": "stream",
     "text": [
      "A. Henderson | J. Jackson | D. Mutombo | J. Terry ATL 2000\n",
      "Point differential: -11.3\n",
      "Predicted point differential: -0.34854811429977417\n",
      "\n",
      "\n",
      "K. Irving | M. Morris | M. Smart | J. Tatum BOS 2019\n",
      "Point differential: 7.4\n",
      "Predicted point differential: 1.3168466091156006\n",
      "\n",
      "\n",
      "H. Eisley | M. Finley | S. Nash | D. Nowitzki DAL 2001\n",
      "Point differential: 11.3\n",
      "Predicted point differential: 5.824050426483154\n",
      "\n",
      "\n",
      "M. Blaylock | J. Caffey | A. Foyle | L. Hughes GSW 2000\n",
      "Point differential: -17.3\n",
      "Predicted point differential: -2.838157892227173\n",
      "\n",
      "\n",
      "L. Allen | P. George | G. Hill | I. Mahinmi IND 2016\n",
      "Point differential: 4.4\n",
      "Predicted point differential: 1.3042705059051514\n",
      "\n",
      "\n",
      "S. Battier | P. Gasol | G. Giriček | J. Williams MEM 2003\n",
      "Point differential: -8.3\n",
      "Predicted point differential: 3.3791885375976562\n",
      "\n",
      "\n",
      "K. Garnett | T. Hudson | A. Peeler | W. Szczerbiak MIN 2003\n",
      "Point differential: 8.7\n",
      "Predicted point differential: 4.317018508911133\n",
      "\n",
      "\n",
      "N. Collison | K. Durant | E. Watson | C. Wilcox SEA 2008\n",
      "Point differential: -14.8\n",
      "Predicted point differential: -1.277789831161499\n",
      "\n",
      "\n",
      "J. Johnson | S. Marion | B. Outlaw | A. Stoudemire PHO 2003\n",
      "Point differential: -0.6\n",
      "Predicted point differential: 3.2935469150543213\n",
      "\n",
      "\n",
      "B. Bogdanović | W. Cauley-Stein | D. Fox | J. Jackson SAC 2018\n",
      "Point differential: -8.5\n",
      "Predicted point differential: -0.09068185836076736\n",
      "\n",
      "\n",
      "R. Foye | A. Jefferson | P. Millsap | M. Williams UTA 2013\n",
      "Point differential: -4.9\n",
      "Predicted point differential: 4.661825180053711\n",
      "\n",
      "\n"
     ]
    }
   ],
   "source": [
    "for i in range(5,len(df),500):\n",
    "    lineup = df.iloc[i]\n",
    "    print(lineup.name)\n",
    "    print('Point differential:', lineup['diff_pts'])\n",
    "    lineup_cluster_tensor = lineup[cluster_cols].astype(float).to_numpy()\n",
    "    lineup_cluster_tensor = torch.tensor(lineup_cluster_tensor, dtype=torch.float32)\n",
    "    y_hat = mlp(lineup_cluster_tensor).item()\n",
    "    print('Predicted point differential:', y_hat)\n",
    "    print('\\n')"
   ]
  },
  {
   "cell_type": "markdown",
   "metadata": {},
   "source": [
    "## With BPM wieghted data"
   ]
  },
  {
   "cell_type": "code",
   "execution_count": 272,
   "metadata": {},
   "outputs": [
    {
     "name": "stdout",
     "output_type": "stream",
     "text": [
      "Wall time: 15.2 s\n"
     ]
    },
    {
     "data": {
      "text/plain": [
       "<matplotlib.legend.Legend at 0x17f378781c0>"
      ]
     },
     "execution_count": 272,
     "metadata": {},
     "output_type": "execute_result"
    },
    {
     "data": {
      "image/png": "[encoded data removed]",
      "text/plain": [
       "<Figure size 432x288 with 1 Axes>"
      ]
     },
     "metadata": {},
     "output_type": "display_data"
    }
   ],
   "source": [
    "%%time\n",
    "\n",
    "input_dim = [12]\n",
    "hidden_sizes = [24, 24]\n",
    "output_dim = [1]\n",
    "sizes = input_dim + hidden_sizes + output_dim\n",
    "activation = nn.ReLU\n",
    "mlp = build_MLP(sizes, activation)\n",
    "\n",
    "mlp_learning_rate = 0.0001\n",
    "loss_fn = nn.MSELoss()\n",
    "# loss_fn = nn.L1Loss()\n",
    "optimizer = torch.optim.Adam(params=mlp.parameters(), lr=mlp_learning_rate)\n",
    "\n",
    "epochs = 4000\n",
    "\n",
    "## Get the bpm clusters as X data\n",
    "df = pd.read_csv('datasets/master_4man_lineup_clusters_2000_2020.csv', index_col=0)\n",
    "bpm_cluster_cols = [f'cluster_{n}_bpm' for n in range(12)]\n",
    "X_bpm = df[bpm_cluster_cols]\n",
    "\n",
    "X_train_tensor, X_test_tensor, y_train_tensor, y_test_tensor = torch_train_test_split(X_bpm, y, 0.2, seed)\n",
    "\n",
    "\n",
    "\n",
    "training_losses = []\n",
    "test_losses = {}\n",
    "for epoch in range(epochs):\n",
    "    optimizer.zero_grad()\n",
    "    y_hat = mlp(X_train_tensor)\n",
    "    train_loss = loss_fn(y_hat.reshape(-1), y_train_tensor)\n",
    "    training_losses.append(train_loss.item())    \n",
    "#         print('EPOCH:', epoch, end='   |   ')\n",
    "#         print('LOSS:', loss.item())\n",
    "    train_loss.backward()\n",
    "    optimizer.step()\n",
    "    \n",
    "    if epoch%100==0:\n",
    "        y_hat_test = mlp(X_test_tensor)\n",
    "        test_loss = loss_fn(y_hat_test.reshape(-1), y_test_tensor)\n",
    "        test_losses[epoch] = test_loss.item()\n",
    "\n",
    "        \n",
    "### Plot training results:\n",
    "train_plot = sns.lineplot(x=[i for i in range(epochs)], y=training_losses, label='Training Loss')\n",
    "plt.tight_layout()\n",
    "train_plot.set_title('Loss by epoch', fontsize=18)\n",
    "train_plot.set_ylabel('MSE Loss')\n",
    "train_plot.set_xlabel('Epoch')\n",
    "\n",
    "test_plot = sns.lineplot(x=test_losses.keys(), y=[test_losses[epoch] for epoch in test_losses.keys()], label='Test Loss')\n",
    "plt.tight_layout()\n",
    "# test_plot.set_title('', fontsize=18)\n",
    "test_plot.set_ylabel('MSE Loss')\n",
    "test_plot.set_xlabel('Epoch')\n",
    "\n",
    "plt.legend();"
   ]
  },
  {
   "cell_type": "markdown",
   "metadata": {},
   "source": [
    "## Test random sample predictions"
   ]
  },
  {
   "cell_type": "code",
   "execution_count": 226,
   "metadata": {},
   "outputs": [
    {
     "name": "stdout",
     "output_type": "stream",
     "text": [
      "A. Henderson | J. Jackson | R. McLeod | D. Mutombo ATL 2000\n",
      "Point differential: -14.8\n",
      "Predicted point differential: 3.3851912021636963\n",
      "MSE Loss: 330.7011790592519\n",
      "ABS Loss: 18.185191202163697\n",
      "\n",
      "\n",
      "A. Horford | K. Irving | M. Morris | M. Smart BOS 2019\n",
      "Point differential: 6.1\n",
      "Predicted point differential: 4.496297359466553\n",
      "MSE Loss: 2.57186215925395\n",
      "ABS Loss: 1.603702640533447\n",
      "\n",
      "\n",
      "S. Bradley | H. Eisley | M. Finley | D. Nowitzki DAL 2001\n",
      "Point differential: 15.9\n",
      "Predicted point differential: 4.0391364097595215\n",
      "MSE Loss: 140.68008510629227\n",
      "ABS Loss: 11.860863590240479\n",
      "\n",
      "\n",
      "M. Blaylock | M. Jackson | A. Jamison | B. Sura GSW 2001\n",
      "Point differential: -9.6\n",
      "Predicted point differential: 4.239412784576416\n",
      "MSE Loss: 191.52934622189713\n",
      "ABS Loss: 13.839412784576416\n",
      "\n",
      "\n",
      "L. Allen | M. Ellis | G. Hill | I. Mahinmi IND 2016\n",
      "Point differential: 8.5\n",
      "Predicted point differential: 3.6677634716033936\n",
      "MSE Loss: 23.350509866370487\n",
      "ABS Loss: 4.8322365283966064\n",
      "\n",
      "\n",
      "P. Gasol | G. Giriček | J. Williams | L. Wright MEM 2003\n",
      "Point differential: -7.2\n",
      "Predicted point differential: 4.5533223152160645\n",
      "MSE Loss: 138.1405854453559\n",
      "ABS Loss: 11.753322315216064\n",
      "\n",
      "\n",
      "K. Garnett | K. Gill | T. Hudson | R. Nesterović MIN 2003\n",
      "Point differential: 2.8\n",
      "Predicted point differential: 4.771777629852295\n",
      "MSE Loss: 3.8879070215859346\n",
      "ABS Loss: 1.971777629852295\n",
      "\n",
      "\n",
      "K. Durant | J. Green | K. Thomas | E. Watson SEA 2008\n",
      "Point differential: -12.9\n",
      "Predicted point differential: 4.794968605041504\n",
      "MSE Loss: 313.1119139334044\n",
      "ABS Loss: 17.694968605041502\n",
      "\n",
      "\n",
      "A. Hardaway | S. Marbury | S. Marion | B. Outlaw PHO 2003\n",
      "Point differential: 12.1\n",
      "Predicted point differential: 3.496506929397583\n",
      "MSE Loss: 74.0200930159038\n",
      "ABS Loss: 8.603493070602417\n",
      "\n",
      "\n",
      "B. Bogdanović | W. Cauley-Stein | D. Fox | Z. Randolph SAC 2018\n",
      "Point differential: -10.9\n",
      "Predicted point differential: 4.026374816894531\n",
      "MSE Loss: 222.79666517442325\n",
      "ABS Loss: 14.926374816894532\n",
      "\n",
      "\n",
      "G. Hayward | A. Jefferson | P. Millsap | M. Williams UTA 2013\n",
      "Point differential: -3.2\n",
      "Predicted point differential: 5.004063129425049\n",
      "MSE Loss: 67.30665183159151\n",
      "ABS Loss: 8.204063129425048\n",
      "\n",
      "\n"
     ]
    }
   ],
   "source": [
    "for i in range(6,len(df),500):\n",
    "    lineup = df.iloc[i]\n",
    "    print(lineup.name)\n",
    "    print('Point differential:', lineup['diff_pts'])\n",
    "    lineup_cluster_tensor = lineup[cluster_cols].astype(float).to_numpy()\n",
    "    lineup_cluster_tensor = torch.tensor(lineup_cluster_tensor, dtype=torch.float32)\n",
    "    y_hat = mlp(lineup_cluster_tensor).item()\n",
    "    print('Predicted point differential:', y_hat)\n",
    "    mse_loss = (lineup['diff_pts'] - y_hat)**2\n",
    "    abs_loss = np.abs((lineup['diff_pts'] - y_hat))\n",
    "    \n",
    "    print('MSE Loss:', mse_loss)\n",
    "    print('ABS Loss:', abs_loss)\n",
    "    \n",
    "    print('\\n')"
   ]
  },
  {
   "cell_type": "markdown",
   "metadata": {},
   "source": [
    "## Try a much bigger MLP"
   ]
  },
  {
   "cell_type": "code",
   "execution_count": 271,
   "metadata": {},
   "outputs": [
    {
     "name": "stdout",
     "output_type": "stream",
     "text": [
      "Wall time: 2min 13s\n"
     ]
    },
    {
     "data": {
      "text/plain": [
       "<matplotlib.legend.Legend at 0x17f3d369c40>"
      ]
     },
     "execution_count": 271,
     "metadata": {},
     "output_type": "execute_result"
    },
    {
     "data": {
      "image/png": "[encoded data removed]",
      "text/plain": [
       "<Figure size 432x288 with 1 Axes>"
      ]
     },
     "metadata": {},
     "output_type": "display_data"
    }
   ],
   "source": [
    "%%time\n",
    "\n",
    "input_dim = [12]\n",
    "hidden_sizes = [24, 72, 72, 24]\n",
    "output_dim = [1]\n",
    "sizes = input_dim + hidden_sizes + output_dim\n",
    "activation = nn.ReLU\n",
    "mlp = build_MLP(sizes, activation)\n",
    "\n",
    "mlp_learning_rate = 0.0001\n",
    "loss_fn = nn.MSELoss()\n",
    "# loss_fn = nn.L1Loss()\n",
    "optimizer = torch.optim.Adam(params=mlp.parameters(), lr=mlp_learning_rate)\n",
    "\n",
    "epochs = 10000\n",
    "\n",
    "## Get the bpm clusters as X data\n",
    "df = pd.read_csv('datasets/master_4man_lineup_clusters_2000_2020.csv', index_col=0)\n",
    "bpm_cluster_cols = [f'cluster_{n}_bpm' for n in range(12)]\n",
    "X_bpm = df[bpm_cluster_cols]\n",
    "X_train_tensor, X_test_tensor, y_train_tensor, y_test_tensor = torch_train_test_split(X_bpm, y, 0.2, seed)\n",
    "\n",
    "training_losses = []\n",
    "test_losses = {}\n",
    "for epoch in range(epochs):\n",
    "    optimizer.zero_grad()\n",
    "    y_hat = mlp(X_train_tensor)\n",
    "    train_loss = loss_fn(y_hat.reshape(-1), y_train_tensor)\n",
    "    training_losses.append(train_loss.item())    \n",
    "#         print('EPOCH:', epoch, end='   |   ')\n",
    "#         print('LOSS:', loss.item())\n",
    "    train_loss.backward()\n",
    "    optimizer.step()\n",
    "    \n",
    "    if epoch%100==0:\n",
    "        y_hat_test = mlp(X_test_tensor)\n",
    "        test_loss = loss_fn(y_hat_test.reshape(-1), y_test_tensor)\n",
    "        test_losses[epoch] = test_loss.item()\n",
    "\n",
    "        \n",
    "### Plot training results:\n",
    "train_plot = sns.lineplot(x=[i for i in range(epochs)], y=training_losses, label='Training Loss')\n",
    "plt.tight_layout()\n",
    "train_plot.set_title('Loss by epoch', fontsize=18)\n",
    "train_plot.set_ylabel('MSE Loss')\n",
    "train_plot.set_xlabel('Epoch')\n",
    "\n",
    "test_plot = sns.lineplot(x=test_losses.keys(), y=[test_losses[epoch] for epoch in test_losses.keys()], label='Test Loss')\n",
    "plt.tight_layout()\n",
    "# test_plot.set_title('', fontsize=18)\n",
    "test_plot.set_ylabel('MSE Loss')\n",
    "test_plot.set_xlabel('Epoch')\n",
    "\n",
    "plt.legend();"
   ]
  },
  {
   "cell_type": "markdown",
   "metadata": {},
   "source": [
    "## Trying even bigger MLP"
   ]
  },
  {
   "cell_type": "code",
   "execution_count": 273,
   "metadata": {},
   "outputs": [
    {
     "name": "stdout",
     "output_type": "stream",
     "text": [
      "Wall time: 2min 20s\n"
     ]
    },
    {
     "data": {
      "text/plain": [
       "<matplotlib.legend.Legend at 0x17f3eddda00>"
      ]
     },
     "execution_count": 273,
     "metadata": {},
     "output_type": "execute_result"
    },
    {
     "data": {
      "image/png": "[encoded data removed]",
      "text/plain": [
       "<Figure size 432x288 with 1 Axes>"
      ]
     },
     "metadata": {},
     "output_type": "display_data"
    }
   ],
   "source": [
    "%%time\n",
    "\n",
    "input_dim = [12]\n",
    "hidden_sizes = [24, 72, 72, 72, 24, 12]\n",
    "output_dim = [1]\n",
    "sizes = input_dim + hidden_sizes + output_dim\n",
    "activation = nn.ReLU\n",
    "mlp = build_MLP(sizes, activation)\n",
    "\n",
    "mlp_learning_rate = 0.0001\n",
    "loss_fn = nn.MSELoss()\n",
    "# loss_fn = nn.L1Loss()\n",
    "optimizer = torch.optim.Adam(params=mlp.parameters(), lr=mlp_learning_rate)\n",
    "\n",
    "epochs = 7500\n",
    "\n",
    "## Get the bpm clusters as X data\n",
    "df = pd.read_csv('datasets/master_4man_lineup_clusters_2000_2020.csv', index_col=0)\n",
    "bpm_cluster_cols = [f'cluster_{n}_bpm' for n in range(12)]\n",
    "X_bpm = df[bpm_cluster_cols]\n",
    "X_train_tensor, X_test_tensor, y_train_tensor, y_test_tensor = torch_train_test_split(X_bpm, y, 0.2, seed)\n",
    "\n",
    "training_losses = []\n",
    "test_losses = {}\n",
    "for epoch in range(epochs):\n",
    "    optimizer.zero_grad()\n",
    "    y_hat = mlp(X_train_tensor)\n",
    "    train_loss = loss_fn(y_hat.reshape(-1), y_train_tensor)\n",
    "    training_losses.append(train_loss.item())    \n",
    "#         print('EPOCH:', epoch, end='   |   ')\n",
    "#         print('LOSS:', loss.item())\n",
    "    train_loss.backward()\n",
    "    optimizer.step()\n",
    "    \n",
    "    if epoch%100==0:\n",
    "        y_hat_test = mlp(X_test_tensor)\n",
    "        test_loss = loss_fn(y_hat_test.reshape(-1), y_test_tensor)\n",
    "        test_losses[epoch] = test_loss.item()\n",
    "\n",
    "        \n",
    "### Plot training results:\n",
    "train_plot = sns.lineplot(x=[i for i in range(epochs)], y=training_losses, label='Training Loss')\n",
    "plt.tight_layout()\n",
    "train_plot.set_title('Loss by epoch', fontsize=18)\n",
    "train_plot.set_ylabel('MSE Loss')\n",
    "train_plot.set_xlabel('Epoch')\n",
    "\n",
    "test_plot = sns.lineplot(x=test_losses.keys(), y=[test_losses[epoch] for epoch in test_losses.keys()], label='Test Loss')\n",
    "plt.tight_layout()\n",
    "test_plot.set_ylabel('MSE Loss')\n",
    "test_plot.set_xlabel('Epoch')\n",
    "\n",
    "plt.legend();"
   ]
  },
  {
   "cell_type": "markdown",
   "metadata": {},
   "source": [
    "## RandomForestRegressor"
   ]
  },
  {
   "cell_type": "code",
   "execution_count": 265,
   "metadata": {},
   "outputs": [
    {
     "data": {
      "text/plain": [
       "-55.107405776532076"
      ]
     },
     "execution_count": 265,
     "metadata": {},
     "output_type": "execute_result"
    }
   ],
   "source": [
    "from sklearn.model_selection import cross_val_score\n",
    "rfr = RandomForestRegressor()\n",
    "\n",
    "# scorer = sklearn.metrics.make_scorer()\n",
    "scores = cross_val_score(rfr, X, y, cv=10, scoring=\"neg_mean_squared_error\")\n",
    "scores.mean()"
   ]
  },
  {
   "cell_type": "code",
   "execution_count": 264,
   "metadata": {
    "collapsed": true,
    "jupyter": {
     "outputs_hidden": true
    }
   },
   "outputs": [
    {
     "data": {
      "text/plain": [
       "['accuracy',\n",
       " 'adjusted_mutual_info_score',\n",
       " 'adjusted_rand_score',\n",
       " 'average_precision',\n",
       " 'balanced_accuracy',\n",
       " 'completeness_score',\n",
       " 'explained_variance',\n",
       " 'f1',\n",
       " 'f1_macro',\n",
       " 'f1_micro',\n",
       " 'f1_samples',\n",
       " 'f1_weighted',\n",
       " 'fowlkes_mallows_score',\n",
       " 'homogeneity_score',\n",
       " 'jaccard',\n",
       " 'jaccard_macro',\n",
       " 'jaccard_micro',\n",
       " 'jaccard_samples',\n",
       " 'jaccard_weighted',\n",
       " 'max_error',\n",
       " 'mutual_info_score',\n",
       " 'neg_brier_score',\n",
       " 'neg_log_loss',\n",
       " 'neg_mean_absolute_error',\n",
       " 'neg_mean_gamma_deviance',\n",
       " 'neg_mean_poisson_deviance',\n",
       " 'neg_mean_squared_error',\n",
       " 'neg_mean_squared_log_error',\n",
       " 'neg_median_absolute_error',\n",
       " 'neg_root_mean_squared_error',\n",
       " 'normalized_mutual_info_score',\n",
       " 'precision',\n",
       " 'precision_macro',\n",
       " 'precision_micro',\n",
       " 'precision_samples',\n",
       " 'precision_weighted',\n",
       " 'r2',\n",
       " 'recall',\n",
       " 'recall_macro',\n",
       " 'recall_micro',\n",
       " 'recall_samples',\n",
       " 'recall_weighted',\n",
       " 'roc_auc',\n",
       " 'roc_auc_ovo',\n",
       " 'roc_auc_ovo_weighted',\n",
       " 'roc_auc_ovr',\n",
       " 'roc_auc_ovr_weighted',\n",
       " 'v_measure_score']"
      ]
     },
     "execution_count": 264,
     "metadata": {},
     "output_type": "execute_result"
    }
   ],
   "source": [
    "sorted(sklearn.metrics.SCORERS.keys())\n",
    "## \"neg mse\" since sklearn losses are all greater is better"
   ]
  },
  {
   "cell_type": "markdown",
   "metadata": {},
   "source": [
    "## Try RFR with BPM clusters"
   ]
  },
  {
   "cell_type": "code",
   "execution_count": 268,
   "metadata": {},
   "outputs": [
    {
     "data": {
      "text/plain": [
       "-37.96515311324285"
      ]
     },
     "execution_count": 268,
     "metadata": {},
     "output_type": "execute_result"
    }
   ],
   "source": [
    "rfr = RandomForestRegressor()\n",
    "\n",
    "# scorer = sklearn.metrics.make_scorer()\n",
    "scores = cross_val_score(rfr, X_bpm, y, cv=10, scoring=\"neg_mean_squared_error\")\n",
    "scores.mean()\n",
    "\n",
    "## Much better results"
   ]
  },
  {
   "cell_type": "code",
   "execution_count": 321,
   "metadata": {},
   "outputs": [
    {
     "data": {
      "text/plain": [
       "RandomForestRegressor()"
      ]
     },
     "execution_count": 321,
     "metadata": {},
     "output_type": "execute_result"
    }
   ],
   "source": [
    "X_train_bpm, X_test_bpm, y_train_bpm, y_test_bpm = train_test_split(X_bpm, y, test_size=.2, random_state=seed)\n",
    "rfr.fit(X_train_bpm, y_train_bpm)"
   ]
  },
  {
   "cell_type": "markdown",
   "metadata": {},
   "source": [
    "## Comapre MLP, RFR, and actual pts diff"
   ]
  },
  {
   "cell_type": "code",
   "execution_count": 335,
   "metadata": {},
   "outputs": [
    {
     "data": {
      "text/html": [
       "<div>\n",
       "<style scoped>\n",
       "    .dataframe tbody tr th:only-of-type {\n",
       "        vertical-align: middle;\n",
       "    }\n",
       "\n",
       "    .dataframe tbody tr th {\n",
       "        vertical-align: top;\n",
       "    }\n",
       "\n",
       "    .dataframe thead th {\n",
       "        text-align: right;\n",
       "    }\n",
       "</style>\n",
       "<table border=\"1\" class=\"dataframe\">\n",
       "  <thead>\n",
       "    <tr style=\"text-align: right;\">\n",
       "      <th></th>\n",
       "      <th>rfr_pred</th>\n",
       "      <th>mlp_prd</th>\n",
       "      <th>diff_pts</th>\n",
       "    </tr>\n",
       "    <tr>\n",
       "      <th>lineup</th>\n",
       "      <th></th>\n",
       "      <th></th>\n",
       "      <th></th>\n",
       "    </tr>\n",
       "  </thead>\n",
       "  <tbody>\n",
       "    <tr>\n",
       "      <th>B. Barry | J. James | R. Lewis | G. Payton SEA 2002</th>\n",
       "      <td>-0.060</td>\n",
       "      <td>0.464145</td>\n",
       "      <td>14.8</td>\n",
       "    </tr>\n",
       "    <tr>\n",
       "      <th>K. Brown | K. Bryant | L. Odom | S. Parker LAL 2006</th>\n",
       "      <td>7.036</td>\n",
       "      <td>4.195578</td>\n",
       "      <td>3.7</td>\n",
       "    </tr>\n",
       "    <tr>\n",
       "      <th>C. Anthony | G. Buckner | F. Elson | A. Miller DEN 2006</th>\n",
       "      <td>3.143</td>\n",
       "      <td>2.038587</td>\n",
       "      <td>10.6</td>\n",
       "    </tr>\n",
       "    <tr>\n",
       "      <th>M. Beasley | W. Johnson | K. Love | D. Miličić MIN 2011</th>\n",
       "      <td>-4.448</td>\n",
       "      <td>1.882074</td>\n",
       "      <td>-3.6</td>\n",
       "    </tr>\n",
       "    <tr>\n",
       "      <th>A. Afflalo | C. Anthony | C. Billups | N. Hilário DEN 2010</th>\n",
       "      <td>5.448</td>\n",
       "      <td>4.723421</td>\n",
       "      <td>4.8</td>\n",
       "    </tr>\n",
       "    <tr>\n",
       "      <th>N. Batum | D. Lillard | R. Lopez | M. Williams POR 2014</th>\n",
       "      <td>4.860</td>\n",
       "      <td>-2.707633</td>\n",
       "      <td>14.6</td>\n",
       "    </tr>\n",
       "    <tr>\n",
       "      <th>R. Allen | K. Garnett | P. Pierce | R. Rondo BOS 2009</th>\n",
       "      <td>10.995</td>\n",
       "      <td>7.824108</td>\n",
       "      <td>14.1</td>\n",
       "    </tr>\n",
       "    <tr>\n",
       "      <th>S. Hawes | J. Holiday | E. Turner | N. Young PHI 2013</th>\n",
       "      <td>-3.960</td>\n",
       "      <td>-9.749916</td>\n",
       "      <td>-10.5</td>\n",
       "    </tr>\n",
       "    <tr>\n",
       "      <th>K. Faried | R. Foye | T. Lawson | T. Mozgov DEN 2014</th>\n",
       "      <td>2.575</td>\n",
       "      <td>-0.543704</td>\n",
       "      <td>4.5</td>\n",
       "    </tr>\n",
       "    <tr>\n",
       "      <th>R. Allen | K. Garnett | K. Perkins | P. Pierce BOS 2010</th>\n",
       "      <td>4.529</td>\n",
       "      <td>12.634117</td>\n",
       "      <td>12.7</td>\n",
       "    </tr>\n",
       "    <tr>\n",
       "      <th>M. Bibby | B. Miller | P. Stojaković | C. Webber SAC 2005</th>\n",
       "      <td>7.853</td>\n",
       "      <td>6.194139</td>\n",
       "      <td>2.2</td>\n",
       "    </tr>\n",
       "    <tr>\n",
       "      <th>C. Arroyo | C. Bosh | Z. Ilgauskas | L. James MIA 2011</th>\n",
       "      <td>8.867</td>\n",
       "      <td>5.133272</td>\n",
       "      <td>11.9</td>\n",
       "    </tr>\n",
       "    <tr>\n",
       "      <th>J. Dudley | C. Frye | S. Nash | J. Richardson PHO 2010</th>\n",
       "      <td>8.419</td>\n",
       "      <td>7.772893</td>\n",
       "      <td>16.6</td>\n",
       "    </tr>\n",
       "    <tr>\n",
       "      <th>S. Dalembert | A. Iguodala | K. Korver | C. Webber PHI 2006</th>\n",
       "      <td>-0.008</td>\n",
       "      <td>-6.255966</td>\n",
       "      <td>4.9</td>\n",
       "    </tr>\n",
       "    <tr>\n",
       "      <th>W. Chandler | C. Duhon | A. Harrington | D. Lee NYK 2009</th>\n",
       "      <td>-4.204</td>\n",
       "      <td>-6.692658</td>\n",
       "      <td>-4.3</td>\n",
       "    </tr>\n",
       "    <tr>\n",
       "      <th>L. Harris | R. Jefferson | J. Kidd | K. Martin NJN 2003</th>\n",
       "      <td>9.155</td>\n",
       "      <td>5.931113</td>\n",
       "      <td>11.1</td>\n",
       "    </tr>\n",
       "    <tr>\n",
       "      <th>A. Afflalo | N. Batum | D. Lillard | R. Lopez POR 2015</th>\n",
       "      <td>1.975</td>\n",
       "      <td>0.731668</td>\n",
       "      <td>-1.7</td>\n",
       "    </tr>\n",
       "    <tr>\n",
       "      <th>D. DeRozan | K. Lowry | T. Ross | J. Valančiūnas TOR 2014</th>\n",
       "      <td>2.895</td>\n",
       "      <td>4.157230</td>\n",
       "      <td>2.9</td>\n",
       "    </tr>\n",
       "    <tr>\n",
       "      <th>J. Johnson | J. Smith | J. Teague | M. Williams ATL 2012</th>\n",
       "      <td>4.907</td>\n",
       "      <td>7.255225</td>\n",
       "      <td>3.4</td>\n",
       "    </tr>\n",
       "    <tr>\n",
       "      <th>T. Allen | M. Conley | M. Gasol | Z. Randolph MEM 2011</th>\n",
       "      <td>7.866</td>\n",
       "      <td>13.694826</td>\n",
       "      <td>6.8</td>\n",
       "    </tr>\n",
       "    <tr>\n",
       "      <th>C. Frye | M. Gortat | G. Hill | S. Nash PHO 2011</th>\n",
       "      <td>6.066</td>\n",
       "      <td>5.440560</td>\n",
       "      <td>7.3</td>\n",
       "    </tr>\n",
       "    <tr>\n",
       "      <th>T. Harris | V. Oladipo | E. Payton | N. Vučević ORL 2015</th>\n",
       "      <td>-5.281</td>\n",
       "      <td>1.467635</td>\n",
       "      <td>-6.7</td>\n",
       "    </tr>\n",
       "    <tr>\n",
       "      <th>C. Billups | R. Hamilton | C. Robinson | C. Williamson DET 2003</th>\n",
       "      <td>2.404</td>\n",
       "      <td>-0.550456</td>\n",
       "      <td>14.7</td>\n",
       "    </tr>\n",
       "    <tr>\n",
       "      <th>L. Aldridge | K. Anderson | P. Mills | D. Murray SAS 2018</th>\n",
       "      <td>6.143</td>\n",
       "      <td>2.806235</td>\n",
       "      <td>11.7</td>\n",
       "    </tr>\n",
       "    <tr>\n",
       "      <th>M. Elie | J. Kidd | S. Marion | C. Robinson PHO 2001</th>\n",
       "      <td>4.997</td>\n",
       "      <td>4.883102</td>\n",
       "      <td>3.4</td>\n",
       "    </tr>\n",
       "  </tbody>\n",
       "</table>\n",
       "</div>"
      ],
      "text/plain": [
       "                                                    rfr_pred    mlp_prd  \\\n",
       "lineup                                                                    \n",
       "B. Barry | J. James | R. Lewis | G. Payton SEA ...    -0.060   0.464145   \n",
       "K. Brown | K. Bryant | L. Odom | S. Parker LAL ...     7.036   4.195578   \n",
       "C. Anthony | G. Buckner | F. Elson | A. Miller ...     3.143   2.038587   \n",
       "M. Beasley | W. Johnson | K. Love | D. Miličić ...    -4.448   1.882074   \n",
       "A. Afflalo | C. Anthony | C. Billups | N. Hilár...     5.448   4.723421   \n",
       "N. Batum | D. Lillard | R. Lopez | M. Williams ...     4.860  -2.707633   \n",
       "R. Allen | K. Garnett | P. Pierce | R. Rondo BO...    10.995   7.824108   \n",
       "S. Hawes | J. Holiday | E. Turner | N. Young PH...    -3.960  -9.749916   \n",
       "K. Faried | R. Foye | T. Lawson | T. Mozgov DEN...     2.575  -0.543704   \n",
       "R. Allen | K. Garnett | K. Perkins | P. Pierce ...     4.529  12.634117   \n",
       "M. Bibby | B. Miller | P. Stojaković | C. Webbe...     7.853   6.194139   \n",
       "C. Arroyo | C. Bosh | Z. Ilgauskas | L. James M...     8.867   5.133272   \n",
       "J. Dudley | C. Frye | S. Nash | J. Richardson P...     8.419   7.772893   \n",
       "S. Dalembert | A. Iguodala | K. Korver | C. Web...    -0.008  -6.255966   \n",
       "W. Chandler | C. Duhon | A. Harrington | D. Lee...    -4.204  -6.692658   \n",
       "L. Harris | R. Jefferson | J. Kidd | K. Martin ...     9.155   5.931113   \n",
       "A. Afflalo | N. Batum | D. Lillard | R. Lopez P...     1.975   0.731668   \n",
       "D. DeRozan | K. Lowry | T. Ross | J. Valančiūna...     2.895   4.157230   \n",
       "J. Johnson | J. Smith | J. Teague | M. Williams...     4.907   7.255225   \n",
       "T. Allen | M. Conley | M. Gasol | Z. Randolph M...     7.866  13.694826   \n",
       "C. Frye | M. Gortat | G. Hill | S. Nash PHO 2011       6.066   5.440560   \n",
       "T. Harris | V. Oladipo | E. Payton | N. Vučević...    -5.281   1.467635   \n",
       "C. Billups | R. Hamilton | C. Robinson | C. Wil...     2.404  -0.550456   \n",
       "L. Aldridge | K. Anderson | P. Mills | D. Murra...     6.143   2.806235   \n",
       "M. Elie | J. Kidd | S. Marion | C. Robinson PHO...     4.997   4.883102   \n",
       "\n",
       "                                                    diff_pts  \n",
       "lineup                                                        \n",
       "B. Barry | J. James | R. Lewis | G. Payton SEA ...      14.8  \n",
       "K. Brown | K. Bryant | L. Odom | S. Parker LAL ...       3.7  \n",
       "C. Anthony | G. Buckner | F. Elson | A. Miller ...      10.6  \n",
       "M. Beasley | W. Johnson | K. Love | D. Miličić ...      -3.6  \n",
       "A. Afflalo | C. Anthony | C. Billups | N. Hilár...       4.8  \n",
       "N. Batum | D. Lillard | R. Lopez | M. Williams ...      14.6  \n",
       "R. Allen | K. Garnett | P. Pierce | R. Rondo BO...      14.1  \n",
       "S. Hawes | J. Holiday | E. Turner | N. Young PH...     -10.5  \n",
       "K. Faried | R. Foye | T. Lawson | T. Mozgov DEN...       4.5  \n",
       "R. Allen | K. Garnett | K. Perkins | P. Pierce ...      12.7  \n",
       "M. Bibby | B. Miller | P. Stojaković | C. Webbe...       2.2  \n",
       "C. Arroyo | C. Bosh | Z. Ilgauskas | L. James M...      11.9  \n",
       "J. Dudley | C. Frye | S. Nash | J. Richardson P...      16.6  \n",
       "S. Dalembert | A. Iguodala | K. Korver | C. Web...       4.9  \n",
       "W. Chandler | C. Duhon | A. Harrington | D. Lee...      -4.3  \n",
       "L. Harris | R. Jefferson | J. Kidd | K. Martin ...      11.1  \n",
       "A. Afflalo | N. Batum | D. Lillard | R. Lopez P...      -1.7  \n",
       "D. DeRozan | K. Lowry | T. Ross | J. Valančiūna...       2.9  \n",
       "J. Johnson | J. Smith | J. Teague | M. Williams...       3.4  \n",
       "T. Allen | M. Conley | M. Gasol | Z. Randolph M...       6.8  \n",
       "C. Frye | M. Gortat | G. Hill | S. Nash PHO 2011         7.3  \n",
       "T. Harris | V. Oladipo | E. Payton | N. Vučević...      -6.7  \n",
       "C. Billups | R. Hamilton | C. Robinson | C. Wil...      14.7  \n",
       "L. Aldridge | K. Anderson | P. Mills | D. Murra...      11.7  \n",
       "M. Elie | J. Kidd | S. Marion | C. Robinson PHO...       3.4  "
      ]
     },
     "execution_count": 335,
     "metadata": {},
     "output_type": "execute_result"
    }
   ],
   "source": [
    "rfr_pred = rfr.predict(X_test_bpm)\n",
    "\n",
    "X_test_bpm_tensor = torch.tensor(X_test_bpm.to_numpy(), dtype=torch.float32)\n",
    "mlp_pred = mlp(X_test_bpm_tensor).detach().numpy()\n",
    "\n",
    "# X_test_bpm\n",
    "\n",
    "df = pd.DataFrame(rfr_pred, index=X_test_bpm.index, columns=['rfr_pred'])\n",
    "df['mlp_prd'] = mlp_pred\n",
    "df['diff_pts'] = y_test_bpm\n",
    "df.sample(25)"
   ]
  },
  {
   "cell_type": "code",
   "execution_count": 304,
   "metadata": {},
   "outputs": [],
   "source": [
    "y_hat = mlp(X_test_tensor).detach()"
   ]
  },
  {
   "cell_type": "code",
   "execution_count": 305,
   "metadata": {},
   "outputs": [],
   "source": [
    "y_hat = np.array(y_hat)"
   ]
  },
  {
   "cell_type": "code",
   "execution_count": 307,
   "metadata": {},
   "outputs": [
    {
     "data": {
      "text/html": [
       "<div>\n",
       "<style scoped>\n",
       "    .dataframe tbody tr th:only-of-type {\n",
       "        vertical-align: middle;\n",
       "    }\n",
       "\n",
       "    .dataframe tbody tr th {\n",
       "        vertical-align: top;\n",
       "    }\n",
       "\n",
       "    .dataframe thead th {\n",
       "        text-align: right;\n",
       "    }\n",
       "</style>\n",
       "<table border=\"1\" class=\"dataframe\">\n",
       "  <thead>\n",
       "    <tr style=\"text-align: right;\">\n",
       "      <th></th>\n",
       "      <th>rfr_pred</th>\n",
       "      <th>diff_pts</th>\n",
       "    </tr>\n",
       "    <tr>\n",
       "      <th>lineup</th>\n",
       "      <th></th>\n",
       "      <th></th>\n",
       "    </tr>\n",
       "  </thead>\n",
       "  <tbody>\n",
       "    <tr>\n",
       "      <th>L. Aldridge | D. Cunningham | W. Matthews | A. Miller POR 2011</th>\n",
       "      <td>-3.177582</td>\n",
       "      <td>-0.6</td>\n",
       "    </tr>\n",
       "    <tr>\n",
       "      <th>P. Brown | J. Magloire | J. Mashburn | D. Wesley CHH 2001</th>\n",
       "      <td>-2.276646</td>\n",
       "      <td>3.7</td>\n",
       "    </tr>\n",
       "    <tr>\n",
       "      <th>D. Coleman | M. Harpring | A. Iverson | D. Mutombo PHI 2002</th>\n",
       "      <td>6.201124</td>\n",
       "      <td>6.7</td>\n",
       "    </tr>\n",
       "    <tr>\n",
       "      <th>A. Houston | M. Jackson | L. Sprewell | K. Thomas NYK 2002</th>\n",
       "      <td>-3.590418</td>\n",
       "      <td>-10.2</td>\n",
       "    </tr>\n",
       "    <tr>\n",
       "      <th>L. Galloway | J. Grant | L. Thomas | D. Williams NYK 2016</th>\n",
       "      <td>-8.900270</td>\n",
       "      <td>-8.2</td>\n",
       "    </tr>\n",
       "  </tbody>\n",
       "</table>\n",
       "</div>"
      ],
      "text/plain": [
       "                                                    rfr_pred  diff_pts\n",
       "lineup                                                                \n",
       "L. Aldridge | D. Cunningham | W. Matthews | A. ... -3.177582      -0.6\n",
       "P. Brown | J. Magloire | J. Mashburn | D. Wesle... -2.276646       3.7\n",
       "D. Coleman | M. Harpring | A. Iverson | D. Muto...  6.201124       6.7\n",
       "A. Houston | M. Jackson | L. Sprewell | K. Thom... -3.590418     -10.2\n",
       "L. Galloway | J. Grant | L. Thomas | D. William... -8.900270      -8.2"
      ]
     },
     "execution_count": 307,
     "metadata": {},
     "output_type": "execute_result"
    }
   ],
   "source": [
    "df = pd.DataFrame(y_hat, index=X_test.index, columns=['rfr_pred'])\n",
    "df['diff_pts'] = y_test\n",
    "df.head()"
   ]
  },
  {
   "cell_type": "code",
   "execution_count": 311,
   "metadata": {},
   "outputs": [
    {
     "data": {
      "text/html": [
       "<div>\n",
       "<style scoped>\n",
       "    .dataframe tbody tr th:only-of-type {\n",
       "        vertical-align: middle;\n",
       "    }\n",
       "\n",
       "    .dataframe tbody tr th {\n",
       "        vertical-align: top;\n",
       "    }\n",
       "\n",
       "    .dataframe thead th {\n",
       "        text-align: right;\n",
       "    }\n",
       "</style>\n",
       "<table border=\"1\" class=\"dataframe\">\n",
       "  <thead>\n",
       "    <tr style=\"text-align: right;\">\n",
       "      <th></th>\n",
       "      <th>rfr_pred</th>\n",
       "      <th>diff_pts</th>\n",
       "    </tr>\n",
       "    <tr>\n",
       "      <th>lineup</th>\n",
       "      <th></th>\n",
       "      <th></th>\n",
       "    </tr>\n",
       "  </thead>\n",
       "  <tbody>\n",
       "    <tr>\n",
       "      <th>J. Crawford | R. Felton | A. Rivers | M. Speights LAC 2017</th>\n",
       "      <td>-4.865489</td>\n",
       "      <td>-5.4</td>\n",
       "    </tr>\n",
       "    <tr>\n",
       "      <th>K. Garnett | T. Hudson | L. Sprewell | W. Szczerbiak MIN 2005</th>\n",
       "      <td>5.629541</td>\n",
       "      <td>-6.2</td>\n",
       "    </tr>\n",
       "    <tr>\n",
       "      <th>M. World Peace | A. Bynum | P. Gasol | R. Sessions LAL 2012</th>\n",
       "      <td>2.271178</td>\n",
       "      <td>9.0</td>\n",
       "    </tr>\n",
       "    <tr>\n",
       "      <th>M. Barnes | E. Bledsoe | L. Odom | R. Turiaf LAC 2013</th>\n",
       "      <td>3.918600</td>\n",
       "      <td>10.0</td>\n",
       "    </tr>\n",
       "    <tr>\n",
       "      <th>T. Ariza | S. Battier | A. Brooks | C. Landry HOU 2010</th>\n",
       "      <td>4.876837</td>\n",
       "      <td>-3.4</td>\n",
       "    </tr>\n",
       "    <tr>\n",
       "      <th>L. Deng | K. Korver | J. Noah | D. Rose CHI 2011</th>\n",
       "      <td>9.526697</td>\n",
       "      <td>12.1</td>\n",
       "    </tr>\n",
       "    <tr>\n",
       "      <th>K. Anderson | A. Griffin | P. Pierce | V. Potapenko BOS 2000</th>\n",
       "      <td>0.095221</td>\n",
       "      <td>1.5</td>\n",
       "    </tr>\n",
       "    <tr>\n",
       "      <th>J. Harden | B. McLemore | P. Tucker | R. Westbrook HOU 2020</th>\n",
       "      <td>5.811133</td>\n",
       "      <td>18.1</td>\n",
       "    </tr>\n",
       "    <tr>\n",
       "      <th>D. Anderson | D. Davis | R. Patterson | R. Wallace POR 2002</th>\n",
       "      <td>12.096731</td>\n",
       "      <td>10.1</td>\n",
       "    </tr>\n",
       "    <tr>\n",
       "      <th>K. Caldwell-Pope | D. Green | L. James | J. McGee LAL 2020</th>\n",
       "      <td>6.303638</td>\n",
       "      <td>0.1</td>\n",
       "    </tr>\n",
       "    <tr>\n",
       "      <th>V. Carter | J. Collins | R. Jefferson | N. Krstić NJN 2006</th>\n",
       "      <td>0.266641</td>\n",
       "      <td>11.2</td>\n",
       "    </tr>\n",
       "    <tr>\n",
       "      <th>K. Anderson | M. Conley | J. Jackson | G. Temple MEM 2019</th>\n",
       "      <td>-2.872095</td>\n",
       "      <td>9.1</td>\n",
       "    </tr>\n",
       "    <tr>\n",
       "      <th>M. Evans | A. Horford | J. Johnson | J. Smith ATL 2009</th>\n",
       "      <td>4.650617</td>\n",
       "      <td>1.6</td>\n",
       "    </tr>\n",
       "    <tr>\n",
       "      <th>L. Deng | B. Gordon | K. Hinrich | A. Nocioni CHI 2008</th>\n",
       "      <td>-4.857944</td>\n",
       "      <td>-5.6</td>\n",
       "    </tr>\n",
       "    <tr>\n",
       "      <th>R. Alston | J. Howard | Y. Ming | D. Wesley HOU 2006</th>\n",
       "      <td>-2.953187</td>\n",
       "      <td>0.9</td>\n",
       "    </tr>\n",
       "    <tr>\n",
       "      <th>T. Hansbrough | P. Patterson | G. Vásquez | L. Williams TOR 2015</th>\n",
       "      <td>10.533470</td>\n",
       "      <td>11.6</td>\n",
       "    </tr>\n",
       "    <tr>\n",
       "      <th>P. George | D. Granger | T. Hansbrough | R. Hibbert IND 2011</th>\n",
       "      <td>0.893471</td>\n",
       "      <td>-2.6</td>\n",
       "    </tr>\n",
       "    <tr>\n",
       "      <th>T. Ariza | B. Beal | J. Green | T. Satoranský WAS 2019</th>\n",
       "      <td>2.314435</td>\n",
       "      <td>-2.5</td>\n",
       "    </tr>\n",
       "    <tr>\n",
       "      <th>C. Billups | N. Mohammed | T. Prince | R. Wallace DET 2007</th>\n",
       "      <td>2.434282</td>\n",
       "      <td>2.0</td>\n",
       "    </tr>\n",
       "    <tr>\n",
       "      <th>S. Anderson | C. Mobley | H. Olajuwon | M. Taylor HOU 2001</th>\n",
       "      <td>1.170678</td>\n",
       "      <td>1.2</td>\n",
       "    </tr>\n",
       "    <tr>\n",
       "      <th>J. Howard | M. Richmond | R. Strickland | J. White WAS 2000</th>\n",
       "      <td>-13.084654</td>\n",
       "      <td>-8.6</td>\n",
       "    </tr>\n",
       "    <tr>\n",
       "      <th>M. World Peace | M. Bibby | K. Martin | B. Miller SAC 2008</th>\n",
       "      <td>6.756843</td>\n",
       "      <td>11.2</td>\n",
       "    </tr>\n",
       "    <tr>\n",
       "      <th>S. Dalembert | A. Iguodala | A. Iverson | K. Thomas PHI 2005</th>\n",
       "      <td>-2.055662</td>\n",
       "      <td>3.1</td>\n",
       "    </tr>\n",
       "    <tr>\n",
       "      <th>V. Carter | A. Davis | H. Olajuwon | M. Peterson TOR 2002</th>\n",
       "      <td>2.455182</td>\n",
       "      <td>-2.9</td>\n",
       "    </tr>\n",
       "    <tr>\n",
       "      <th>L. James | K. Love | T. Mozgov | J. Smith CLE 2016</th>\n",
       "      <td>11.837227</td>\n",
       "      <td>-2.6</td>\n",
       "    </tr>\n",
       "  </tbody>\n",
       "</table>\n",
       "</div>"
      ],
      "text/plain": [
       "                                                     rfr_pred  diff_pts\n",
       "lineup                                                                 \n",
       "J. Crawford | R. Felton | A. Rivers | M. Speigh...  -4.865489      -5.4\n",
       "K. Garnett | T. Hudson | L. Sprewell | W. Szcze...   5.629541      -6.2\n",
       "M. World Peace | A. Bynum | P. Gasol | R. Sessi...   2.271178       9.0\n",
       "M. Barnes | E. Bledsoe | L. Odom | R. Turiaf LA...   3.918600      10.0\n",
       "T. Ariza | S. Battier | A. Brooks | C. Landry H...   4.876837      -3.4\n",
       "L. Deng | K. Korver | J. Noah | D. Rose CHI 2011     9.526697      12.1\n",
       "K. Anderson | A. Griffin | P. Pierce | V. Potap...   0.095221       1.5\n",
       "J. Harden | B. McLemore | P. Tucker | R. Westbr...   5.811133      18.1\n",
       "D. Anderson | D. Davis | R. Patterson | R. Wall...  12.096731      10.1\n",
       "K. Caldwell-Pope | D. Green | L. James | J. McG...   6.303638       0.1\n",
       "V. Carter | J. Collins | R. Jefferson | N. Krst...   0.266641      11.2\n",
       "K. Anderson | M. Conley | J. Jackson | G. Templ...  -2.872095       9.1\n",
       "M. Evans | A. Horford | J. Johnson | J. Smith A...   4.650617       1.6\n",
       "L. Deng | B. Gordon | K. Hinrich | A. Nocioni C...  -4.857944      -5.6\n",
       "R. Alston | J. Howard | Y. Ming | D. Wesley HOU...  -2.953187       0.9\n",
       "T. Hansbrough | P. Patterson | G. Vásquez | L. ...  10.533470      11.6\n",
       "P. George | D. Granger | T. Hansbrough | R. Hib...   0.893471      -2.6\n",
       "T. Ariza | B. Beal | J. Green | T. Satoranský W...   2.314435      -2.5\n",
       "C. Billups | N. Mohammed | T. Prince | R. Walla...   2.434282       2.0\n",
       "S. Anderson | C. Mobley | H. Olajuwon | M. Tayl...   1.170678       1.2\n",
       "J. Howard | M. Richmond | R. Strickland | J. Wh... -13.084654      -8.6\n",
       "M. World Peace | M. Bibby | K. Martin | B. Mill...   6.756843      11.2\n",
       "S. Dalembert | A. Iguodala | A. Iverson | K. Th...  -2.055662       3.1\n",
       "V. Carter | A. Davis | H. Olajuwon | M. Peterso...   2.455182      -2.9\n",
       "L. James | K. Love | T. Mozgov | J. Smith CLE 2016  11.837227      -2.6"
      ]
     },
     "execution_count": 311,
     "metadata": {},
     "output_type": "execute_result"
    }
   ],
   "source": [
    "# df.sort_values(by='rfr_pred')\n",
    "df.sample(25)"
   ]
  },
  {
   "cell_type": "code",
   "execution_count": null,
   "metadata": {},
   "outputs": [],
   "source": [
    "\n"
   ]
  }
 ],
 "metadata": {
  "kernelspec": {
   "display_name": "nba",
   "language": "python",
   "name": "nba"
  },
  "language_info": {
   "codemirror_mode": {
    "name": "ipython",
    "version": 3
   },
   "file_extension": ".py",
   "mimetype": "text/x-python",
   "name": "python",
   "nbconvert_exporter": "python",
   "pygments_lexer": "ipython3",
   "version": "3.8.5"
  }
 },
 "nbformat": 4,
 "nbformat_minor": 4
}
