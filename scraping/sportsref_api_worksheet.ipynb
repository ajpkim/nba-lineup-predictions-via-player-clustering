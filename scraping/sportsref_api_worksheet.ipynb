{
 "cells": [
  {
   "cell_type": "code",
   "execution_count": 5,
   "metadata": {},
   "outputs": [],
   "source": [
    "import pandas as pd\n",
    "import numpy as np\n",
    "\n",
    "import sportsreference.nba as nba\n",
    "\n",
    "import matplotlib.pyplot as plt\n",
    "%matplotlib inline"
   ]
  },
  {
   "cell_type": "markdown",
   "metadata": {},
   "source": [
    "# API is missing lots of data (play by play, shooting) but is easy way to get play bio info like height, weight, salary (for most years)"
   ]
  },
  {
   "cell_type": "code",
   "execution_count": 21,
   "metadata": {},
   "outputs": [
    {
     "data": {
      "text/plain": [
       "<sportsreference.nba.roster.Player at 0x19ff252b3d0>"
      ]
     },
     "execution_count": 21,
     "metadata": {},
     "output_type": "execute_result"
    }
   ],
   "source": [
    "nba.roster.Player('hardenja01')"
   ]
  },
  {
   "cell_type": "code",
   "execution_count": 23,
   "metadata": {},
   "outputs": [
    {
     "data": {
      "text/html": [
       "<div>\n",
       "<style scoped>\n",
       "    .dataframe tbody tr th:only-of-type {\n",
       "        vertical-align: middle;\n",
       "    }\n",
       "\n",
       "    .dataframe tbody tr th {\n",
       "        vertical-align: top;\n",
       "    }\n",
       "\n",
       "    .dataframe thead th {\n",
       "        text-align: right;\n",
       "    }\n",
       "</style>\n",
       "<table border=\"1\" class=\"dataframe\">\n",
       "  <thead>\n",
       "    <tr style=\"text-align: right;\">\n",
       "      <th></th>\n",
       "      <th>and_ones</th>\n",
       "      <th>assist_percentage</th>\n",
       "      <th>assists</th>\n",
       "      <th>block_percentage</th>\n",
       "      <th>blocking_fouls</th>\n",
       "      <th>blocks</th>\n",
       "      <th>box_plus_minus</th>\n",
       "      <th>center_percentage</th>\n",
       "      <th>defensive_box_plus_minus</th>\n",
       "      <th>defensive_rebound_percentage</th>\n",
       "      <th>...</th>\n",
       "      <th>turnovers</th>\n",
       "      <th>two_point_attempts</th>\n",
       "      <th>two_point_percentage</th>\n",
       "      <th>two_pointers</th>\n",
       "      <th>two_pointers_assisted_percentage</th>\n",
       "      <th>usage_percentage</th>\n",
       "      <th>value_over_replacement_player</th>\n",
       "      <th>weight</th>\n",
       "      <th>win_shares</th>\n",
       "      <th>win_shares_per_48_minutes</th>\n",
       "    </tr>\n",
       "  </thead>\n",
       "  <tbody>\n",
       "    <tr>\n",
       "      <th>2016-17</th>\n",
       "      <td>None</td>\n",
       "      <td>50.7</td>\n",
       "      <td>907</td>\n",
       "      <td>1.0</td>\n",
       "      <td>None</td>\n",
       "      <td>38</td>\n",
       "      <td>8.7</td>\n",
       "      <td>0</td>\n",
       "      <td>1.2</td>\n",
       "      <td>20.9</td>\n",
       "      <td>...</td>\n",
       "      <td>464</td>\n",
       "      <td>777</td>\n",
       "      <td>0.530</td>\n",
       "      <td>412</td>\n",
       "      <td>None</td>\n",
       "      <td>34.2</td>\n",
       "      <td>8.0</td>\n",
       "      <td>220</td>\n",
       "      <td>15.0</td>\n",
       "      <td>0.245</td>\n",
       "    </tr>\n",
       "    <tr>\n",
       "      <th>2017-18</th>\n",
       "      <td>None</td>\n",
       "      <td>45.1</td>\n",
       "      <td>630</td>\n",
       "      <td>1.7</td>\n",
       "      <td>None</td>\n",
       "      <td>50</td>\n",
       "      <td>9.9</td>\n",
       "      <td>0</td>\n",
       "      <td>1.4</td>\n",
       "      <td>15.2</td>\n",
       "      <td>...</td>\n",
       "      <td>315</td>\n",
       "      <td>727</td>\n",
       "      <td>0.531</td>\n",
       "      <td>386</td>\n",
       "      <td>None</td>\n",
       "      <td>36.1</td>\n",
       "      <td>7.7</td>\n",
       "      <td>220</td>\n",
       "      <td>15.4</td>\n",
       "      <td>0.289</td>\n",
       "    </tr>\n",
       "    <tr>\n",
       "      <th>2018-19</th>\n",
       "      <td>None</td>\n",
       "      <td>39.5</td>\n",
       "      <td>586</td>\n",
       "      <td>1.7</td>\n",
       "      <td>None</td>\n",
       "      <td>58</td>\n",
       "      <td>11.0</td>\n",
       "      <td>0</td>\n",
       "      <td>1.6</td>\n",
       "      <td>17.8</td>\n",
       "      <td>...</td>\n",
       "      <td>387</td>\n",
       "      <td>881</td>\n",
       "      <td>0.528</td>\n",
       "      <td>465</td>\n",
       "      <td>None</td>\n",
       "      <td>40.5</td>\n",
       "      <td>9.3</td>\n",
       "      <td>220</td>\n",
       "      <td>15.2</td>\n",
       "      <td>0.254</td>\n",
       "    </tr>\n",
       "    <tr>\n",
       "      <th>2019-20</th>\n",
       "      <td>None</td>\n",
       "      <td>35.9</td>\n",
       "      <td>512</td>\n",
       "      <td>2.1</td>\n",
       "      <td>None</td>\n",
       "      <td>60</td>\n",
       "      <td>9.6</td>\n",
       "      <td>0</td>\n",
       "      <td>1.6</td>\n",
       "      <td>16.0</td>\n",
       "      <td>...</td>\n",
       "      <td>308</td>\n",
       "      <td>671</td>\n",
       "      <td>0.556</td>\n",
       "      <td>373</td>\n",
       "      <td>None</td>\n",
       "      <td>36.3</td>\n",
       "      <td>7.3</td>\n",
       "      <td>220</td>\n",
       "      <td>13.1</td>\n",
       "      <td>0.254</td>\n",
       "    </tr>\n",
       "    <tr>\n",
       "      <th>Career</th>\n",
       "      <td>None</td>\n",
       "      <td>32.2</td>\n",
       "      <td>5255</td>\n",
       "      <td>1.2</td>\n",
       "      <td>None</td>\n",
       "      <td>443</td>\n",
       "      <td>7.0</td>\n",
       "      <td>0</td>\n",
       "      <td>1.0</td>\n",
       "      <td>14.6</td>\n",
       "      <td>...</td>\n",
       "      <td>3078</td>\n",
       "      <td>7531</td>\n",
       "      <td>0.511</td>\n",
       "      <td>3847</td>\n",
       "      <td>None</td>\n",
       "      <td>30.7</td>\n",
       "      <td>64.6</td>\n",
       "      <td>220</td>\n",
       "      <td>135.0</td>\n",
       "      <td>0.227</td>\n",
       "    </tr>\n",
       "  </tbody>\n",
       "</table>\n",
       "<p>5 rows × 89 columns</p>\n",
       "</div>"
      ],
      "text/plain": [
       "        and_ones  assist_percentage  assists  block_percentage blocking_fouls  \\\n",
       "2016-17     None               50.7      907               1.0           None   \n",
       "2017-18     None               45.1      630               1.7           None   \n",
       "2018-19     None               39.5      586               1.7           None   \n",
       "2019-20     None               35.9      512               2.1           None   \n",
       "Career      None               32.2     5255               1.2           None   \n",
       "\n",
       "         blocks  box_plus_minus  center_percentage  defensive_box_plus_minus  \\\n",
       "2016-17      38             8.7                  0                       1.2   \n",
       "2017-18      50             9.9                  0                       1.4   \n",
       "2018-19      58            11.0                  0                       1.6   \n",
       "2019-20      60             9.6                  0                       1.6   \n",
       "Career      443             7.0                  0                       1.0   \n",
       "\n",
       "         defensive_rebound_percentage  ...  turnovers  two_point_attempts  \\\n",
       "2016-17                          20.9  ...        464                 777   \n",
       "2017-18                          15.2  ...        315                 727   \n",
       "2018-19                          17.8  ...        387                 881   \n",
       "2019-20                          16.0  ...        308                 671   \n",
       "Career                           14.6  ...       3078                7531   \n",
       "\n",
       "        two_point_percentage  two_pointers  two_pointers_assisted_percentage  \\\n",
       "2016-17                0.530           412                              None   \n",
       "2017-18                0.531           386                              None   \n",
       "2018-19                0.528           465                              None   \n",
       "2019-20                0.556           373                              None   \n",
       "Career                 0.511          3847                              None   \n",
       "\n",
       "         usage_percentage  value_over_replacement_player  weight  win_shares  \\\n",
       "2016-17              34.2                            8.0     220        15.0   \n",
       "2017-18              36.1                            7.7     220        15.4   \n",
       "2018-19              40.5                            9.3     220        15.2   \n",
       "2019-20              36.3                            7.3     220        13.1   \n",
       "Career               30.7                           64.6     220       135.0   \n",
       "\n",
       "         win_shares_per_48_minutes  \n",
       "2016-17                      0.245  \n",
       "2017-18                      0.289  \n",
       "2018-19                      0.254  \n",
       "2019-20                      0.254  \n",
       "Career                       0.227  \n",
       "\n",
       "[5 rows x 89 columns]"
      ]
     },
     "execution_count": 23,
     "metadata": {},
     "output_type": "execute_result"
    }
   ],
   "source": [
    "df_harden = james_harden.dataframe\n",
    "df_harden.tail()"
   ]
  },
  {
   "cell_type": "code",
   "execution_count": 28,
   "metadata": {},
   "outputs": [
    {
     "data": {
      "text/plain": [
       "2009-10    None\n",
       "2010-11    None\n",
       "2011-12    None\n",
       "2012-13    None\n",
       "2013-14    None\n",
       "2014-15    None\n",
       "2015-16    None\n",
       "2016-17    None\n",
       "2017-18    None\n",
       "2018-19    None\n",
       "2019-20    None\n",
       "Career     None\n",
       "Name: shooting_fouls_drawn, dtype: object"
      ]
     },
     "execution_count": 28,
     "metadata": {},
     "output_type": "execute_result"
    }
   ],
   "source": [
    "df_harden['shooting_fouls_drawn']"
   ]
  },
  {
   "cell_type": "code",
   "execution_count": 30,
   "metadata": {},
   "outputs": [
    {
     "data": {
      "text/plain": [
       "percentage_shots_three_pointers             12\n",
       "passing_turnovers                           12\n",
       "shooting_fouls_drawn                        12\n",
       "shooting_fouls                              12\n",
       "points_generated_by_assists                 12\n",
       "percentage_shots_two_pointers               12\n",
       "percentage_of_three_pointers_from_corner    12\n",
       "percentage_field_goals_as_dunks             12\n",
       "other_turnovers                             12\n",
       "take_fouls                                  12\n",
       "on_court_plus_minus                         12\n",
       "offensive_fouls                             12\n",
       "net_plus_minus                              12\n",
       "lost_ball_turnovers                         12\n",
       "dunks                                       12\n",
       "blocking_fouls                              12\n",
       "shots_blocked                               12\n",
       "and_ones                                    12\n",
       "three_pointers_assisted_percentage          12\n",
       "two_pointers_assisted_percentage            12\n",
       "dtype: int64"
      ]
     },
     "execution_count": 30,
     "metadata": {},
     "output_type": "execute_result"
    }
   ],
   "source": [
    "df_harden.isna().sum().sort_values(ascending=False)[:20]"
   ]
  },
  {
   "cell_type": "code",
   "execution_count": 17,
   "metadata": {},
   "outputs": [
    {
     "data": {
      "text/plain": [
       "['and_ones',\n",
       " 'assist_percentage',\n",
       " 'assists',\n",
       " 'block_percentage',\n",
       " 'blocking_fouls',\n",
       " 'blocks',\n",
       " 'box_plus_minus',\n",
       " 'center_percentage',\n",
       " 'defensive_box_plus_minus',\n",
       " 'defensive_rebound_percentage',\n",
       " 'defensive_rebounds',\n",
       " 'defensive_win_shares',\n",
       " 'dunks',\n",
       " 'effective_field_goal_percentage',\n",
       " 'field_goal_attempts',\n",
       " 'field_goal_perc_sixteen_foot_plus_two_pointers',\n",
       " 'field_goal_perc_ten_to_sixteen_feet',\n",
       " 'field_goal_perc_three_to_ten_feet',\n",
       " 'field_goal_perc_zero_to_three_feet',\n",
       " 'field_goal_percentage',\n",
       " 'field_goals',\n",
       " 'free_throw_attempt_rate',\n",
       " 'free_throw_attempts',\n",
       " 'free_throw_percentage',\n",
       " 'free_throws',\n",
       " 'games_played',\n",
       " 'games_started',\n",
       " 'half_court_heaves',\n",
       " 'half_court_heaves_made',\n",
       " 'height',\n",
       " 'lost_ball_turnovers',\n",
       " 'minutes_played',\n",
       " 'nationality',\n",
       " 'net_plus_minus',\n",
       " 'offensive_box_plus_minus',\n",
       " 'offensive_fouls',\n",
       " 'offensive_rebound_percentage',\n",
       " 'offensive_rebounds',\n",
       " 'offensive_win_shares',\n",
       " 'on_court_plus_minus',\n",
       " 'other_turnovers',\n",
       " 'passing_turnovers',\n",
       " 'percentage_field_goals_as_dunks',\n",
       " 'percentage_of_three_pointers_from_corner',\n",
       " 'percentage_shots_three_pointers',\n",
       " 'percentage_shots_two_pointers',\n",
       " 'percentage_sixteen_foot_plus_two_pointers',\n",
       " 'percentage_ten_to_sixteen_footers',\n",
       " 'percentage_three_to_ten_footers',\n",
       " 'percentage_zero_to_three_footers',\n",
       " 'personal_fouls',\n",
       " 'player_efficiency_rating',\n",
       " 'player_id',\n",
       " 'point_guard_percentage',\n",
       " 'points',\n",
       " 'points_generated_by_assists',\n",
       " 'position',\n",
       " 'power_forward_percentage',\n",
       " 'salary',\n",
       " 'shooting_distance',\n",
       " 'shooting_fouls',\n",
       " 'shooting_fouls_drawn',\n",
       " 'shooting_guard_percentage',\n",
       " 'shots_blocked',\n",
       " 'small_forward_percentage',\n",
       " 'steal_percentage',\n",
       " 'steals',\n",
       " 'take_fouls',\n",
       " 'team_abbreviation',\n",
       " 'three_point_attempt_rate',\n",
       " 'three_point_attempts',\n",
       " 'three_point_percentage',\n",
       " 'three_point_shot_percentage_from_corner',\n",
       " 'three_pointers',\n",
       " 'three_pointers_assisted_percentage',\n",
       " 'total_rebound_percentage',\n",
       " 'total_rebounds',\n",
       " 'true_shooting_percentage',\n",
       " 'turnover_percentage',\n",
       " 'turnovers',\n",
       " 'two_point_attempts',\n",
       " 'two_point_percentage',\n",
       " 'two_pointers',\n",
       " 'two_pointers_assisted_percentage',\n",
       " 'usage_percentage',\n",
       " 'value_over_replacement_player',\n",
       " 'weight',\n",
       " 'win_shares',\n",
       " 'win_shares_per_48_minutes']"
      ]
     },
     "execution_count": 17,
     "metadata": {},
     "output_type": "execute_result"
    }
   ],
   "source": [
    "list(df_harden.columns)"
   ]
  },
  {
   "cell_type": "code",
   "execution_count": 12,
   "metadata": {},
   "outputs": [
    {
     "name": "stdout",
     "output_type": "stream",
     "text": [
      "James Harden\n"
     ]
    }
   ],
   "source": [
    "from sportsreference.nba.roster import Player\n",
    "\n",
    "james_harden = Player('hardeja01')\n",
    "print(james_harden.name)  # Prints 'James Harden'"
   ]
  },
  {
   "cell_type": "code",
   "execution_count": 34,
   "metadata": {},
   "outputs": [
    {
     "name": "stdout",
     "output_type": "stream",
     "text": [
      "Michael Jordan\n"
     ]
    }
   ],
   "source": [
    "from sportsreference.nba.roster import Player\n",
    "\n",
    "mj = Player('jordami01')\n",
    "print(mj.name)  # Prints 'James Harden'"
   ]
  },
  {
   "cell_type": "code",
   "execution_count": 35,
   "metadata": {},
   "outputs": [],
   "source": [
    "df_mj = mj.dataframe"
   ]
  },
  {
   "cell_type": "code",
   "execution_count": 18,
   "metadata": {},
   "outputs": [],
   "source": [
    "jh = sportsreference.nba.roster.Player('hardeja01')"
   ]
  },
  {
   "cell_type": "code",
   "execution_count": 33,
   "metadata": {},
   "outputs": [
    {
     "data": {
      "text/plain": [
       "2009-10      4054160.0\n",
       "2010-11      4304520.0\n",
       "2011-12      4604760.0\n",
       "2012-13      5820417.0\n",
       "2013-14     13701250.0\n",
       "2014-15     14728844.0\n",
       "2015-16     15756438.0\n",
       "2016-17     26540100.0\n",
       "2017-18     28299399.0\n",
       "2018-19     30421854.0\n",
       "2019-20            NaN\n",
       "Career     148231742.0\n",
       "Name: salary, dtype: float64"
      ]
     },
     "execution_count": 33,
     "metadata": {},
     "output_type": "execute_result"
    }
   ],
   "source": [
    "df_harden.salary"
   ]
  },
  {
   "cell_type": "code",
   "execution_count": 36,
   "metadata": {},
   "outputs": [
    {
     "data": {
      "text/plain": [
       "1984-85      550000.0\n",
       "1985-86      630000.0\n",
       "1986-87           NaN\n",
       "1987-88      845000.0\n",
       "1988-89     2000000.0\n",
       "1989-90     2500000.0\n",
       "1990-91     2500000.0\n",
       "1991-92     3250000.0\n",
       "1992-93     4000000.0\n",
       "1994-95     3850000.0\n",
       "1995-96     3850000.0\n",
       "1996-97    30140000.0\n",
       "1997-98    33140000.0\n",
       "2001-02     1000000.0\n",
       "2002-03     1030000.0\n",
       "Career     93285000.0\n",
       "1993-94     4000000.0\n",
       "Name: salary, dtype: float64"
      ]
     },
     "execution_count": 36,
     "metadata": {},
     "output_type": "execute_result"
    }
   ],
   "source": [
    "df_mj.salary"
   ]
  },
  {
   "cell_type": "code",
   "execution_count": 38,
   "metadata": {},
   "outputs": [
    {
     "data": {
      "text/plain": [
       "2013-14    6-11\n",
       "2014-15    6-11\n",
       "2015-16    6-11\n",
       "2016-17    6-11\n",
       "2017-18    6-11\n",
       "2018-19    6-11\n",
       "2019-20    6-11\n",
       "Career     6-11\n",
       "Name: height, dtype: object"
      ]
     },
     "execution_count": 38,
     "metadata": {},
     "output_type": "execute_result"
    }
   ],
   "source": [
    "df_giannis = sportsreference.nba.roster.Player('antetgi01').dataframe\n",
    "df_giannis.height"
   ]
  },
  {
   "cell_type": "code",
   "execution_count": 40,
   "metadata": {},
   "outputs": [
    {
     "data": {
      "text/plain": [
       "1996-97    6-5\n",
       "1997-98    6-5\n",
       "1998-99    6-5\n",
       "1999-00    6-5\n",
       "2000-01    6-5\n",
       "2001-02    6-5\n",
       "2002-03    6-5\n",
       "2003-04    6-5\n",
       "2004-05    6-5\n",
       "2005-06    6-5\n",
       "2006-07    6-5\n",
       "2007-08    6-5\n",
       "2008-09    6-5\n",
       "2009-10    6-5\n",
       "2010-11    6-5\n",
       "2011-12    6-5\n",
       "2012-13    6-5\n",
       "2013-14    6-5\n",
       "Career     6-5\n",
       "Name: height, dtype: object"
      ]
     },
     "execution_count": 40,
     "metadata": {},
     "output_type": "execute_result"
    }
   ],
   "source": [
    "df_ray = sportsreference.nba.roster.Player('allenra02').dataframe\n",
    "df_ray.height"
   ]
  },
  {
   "cell_type": "code",
   "execution_count": 41,
   "metadata": {},
   "outputs": [
    {
     "data": {
      "text/plain": [
       "1996-97      1785000\n",
       "1997-98      2052360\n",
       "1998-99      2320000\n",
       "1999-00      9000000\n",
       "2000-01     10130000\n",
       "2001-02     11250000\n",
       "2002-03     12375000\n",
       "2003-04     13500000\n",
       "2004-05     14625000\n",
       "2005-06     13223140\n",
       "2006-07     14611570\n",
       "2007-08     16000000\n",
       "2008-09     18388430\n",
       "2009-10     18776860\n",
       "2010-11     10000000\n",
       "2011-12     10000000\n",
       "2012-13      3090000\n",
       "2013-14      3229050\n",
       "Career     184356410\n",
       "Name: salary, dtype: int64"
      ]
     },
     "execution_count": 41,
     "metadata": {},
     "output_type": "execute_result"
    }
   ],
   "source": [
    "df_ray.salary"
   ]
  },
  {
   "cell_type": "code",
   "execution_count": 44,
   "metadata": {},
   "outputs": [
    {
     "data": {
      "text/plain": [
       "1996-97    None\n",
       "1997-98    None\n",
       "1998-99    None\n",
       "1999-00    None\n",
       "2000-01    None\n",
       "2001-02    None\n",
       "2002-03    None\n",
       "2003-04    None\n",
       "2004-05    None\n",
       "2005-06    None\n",
       "2006-07    None\n",
       "2007-08    None\n",
       "2008-09    None\n",
       "2009-10    None\n",
       "2010-11    None\n",
       "2011-12    None\n",
       "2012-13    None\n",
       "2013-14    None\n",
       "Career     None\n",
       "Name: percentage_of_three_pointers_from_corner, dtype: object"
      ]
     },
     "execution_count": 44,
     "metadata": {},
     "output_type": "execute_result"
    }
   ],
   "source": [
    "df_ray['percentage_of_three_pointers_from_corner']"
   ]
  }
 ],
 "metadata": {
  "kernelspec": {
   "display_name": "nba",
   "language": "python",
   "name": "nba"
  },
  "language_info": {
   "codemirror_mode": {
    "name": "ipython",
    "version": 3
   },
   "file_extension": ".py",
   "mimetype": "text/x-python",
   "name": "python",
   "nbconvert_exporter": "python",
   "pygments_lexer": "ipython3",
   "version": "3.8.5"
  }
 },
 "nbformat": 4,
 "nbformat_minor": 4
}
