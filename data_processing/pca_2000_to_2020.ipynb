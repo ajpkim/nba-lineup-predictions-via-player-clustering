{
 "cells": [
  {
   "cell_type": "code",
   "execution_count": 156,
   "metadata": {},
   "outputs": [],
   "source": [
    "import pandas as pd\n",
    "import numpy as np\n",
    "import sklearn\n",
    "from sklearn.decomposition import PCA\n",
    "from sklearn.preprocessing import StandardScaler\n",
    "import matplotlib.pyplot as plt\n",
    "%matplotlib inline\n",
    "import seaborn as sns; sns.set()\n",
    "\n",
    "seed = 3\n",
    "\n",
    "# from IPython.core.interactiveshell import InteractiveShell\n",
    "# InteractiveShell.ast_node_interactivity = \"all\""
   ]
  },
  {
   "cell_type": "markdown",
   "metadata": {},
   "source": [
    "# Decide on columns and run pca, save transformed data"
   ]
  },
  {
   "cell_type": "code",
   "execution_count": 157,
   "metadata": {},
   "outputs": [
    {
     "data": {
      "text/plain": [
       "(6541, 71)"
      ]
     },
     "execution_count": 157,
     "metadata": {},
     "output_type": "execute_result"
    }
   ],
   "source": [
    "df = pd.read_csv('bballref_data/scaled_2000_to_2020.csv', index_col=0)\n",
    "df.shape"
   ]
  },
  {
   "cell_type": "code",
   "execution_count": 158,
   "metadata": {},
   "outputs": [
    {
     "data": {
      "text/plain": [
       "['age',\n",
       " 'and1s_per_min',\n",
       " 'ast_pct',\n",
       " 'astd_pts_per_min',\n",
       " 'avg_dist',\n",
       " 'blk_pct',\n",
       " 'bpm',\n",
       " 'dbpm',\n",
       " 'def_rtg',\n",
       " 'drawn_shooting_per_min',\n",
       " 'drb_pct',\n",
       " 'fg2_pct',\n",
       " 'fg2_per_poss',\n",
       " 'fg2a_per_poss',\n",
       " 'fg3_heave',\n",
       " 'fg3_pct',\n",
       " 'fg3_per_poss',\n",
       " 'fg3a_heave',\n",
       " 'fg3a_per_poss',\n",
       " 'fg_dunk',\n",
       " 'fg_pct',\n",
       " 'fg_pct_00_03',\n",
       " 'fg_pct_03_10',\n",
       " 'fg_pct_10_16',\n",
       " 'fg_pct_16_xx',\n",
       " 'fg_pct_corner3',\n",
       " 'fg_per_poss',\n",
       " 'fga_per_poss',\n",
       " 'fouls_offensive_per_min',\n",
       " 'fouls_shooting_per_min',\n",
       " 'ft_pct',\n",
       " 'ft_per_poss',\n",
       " 'fta_per_fga_pct',\n",
       " 'fta_per_poss',\n",
       " 'g',\n",
       " 'gs',\n",
       " 'height',\n",
       " 'mp',\n",
       " 'obpm',\n",
       " 'off_rtg',\n",
       " 'orb_pct',\n",
       " 'own_shots_blk_per_min',\n",
       " 'pct_ast_fg2',\n",
       " 'pct_ast_fg3',\n",
       " 'pct_c',\n",
       " 'pct_fg3a_corner3',\n",
       " 'pct_fga_00_03',\n",
       " 'pct_fga_03_10',\n",
       " 'pct_fga_10_16',\n",
       " 'pct_fga_16_xx',\n",
       " 'pct_fga_dunk',\n",
       " 'pct_fga_fg3a',\n",
       " 'pct_pf',\n",
       " 'pct_pg',\n",
       " 'pct_sf',\n",
       " 'pct_sg',\n",
       " 'per',\n",
       " 'pf_per_poss',\n",
       " 'plus_minus_net',\n",
       " 'plus_minus_on',\n",
       " 'pts_per_poss',\n",
       " 'stl_pct',\n",
       " 'tov_bad_pass_per_min',\n",
       " 'tov_lost_ball_per_min',\n",
       " 'tov_pct',\n",
       " 'trb_pct',\n",
       " 'ts_pct',\n",
       " 'usg_pct',\n",
       " 'vorp',\n",
       " 'weight',\n",
       " 'year']"
      ]
     },
     "execution_count": 158,
     "metadata": {},
     "output_type": "execute_result"
    }
   ],
   "source": [
    "sorted(df.columns)\n",
    "\n",
    "## Cols to drop"
   ]
  },
  {
   "cell_type": "code",
   "execution_count": 165,
   "metadata": {},
   "outputs": [
    {
     "data": {
      "text/plain": [
       "(6541, 59)"
      ]
     },
     "execution_count": 165,
     "metadata": {},
     "output_type": "execute_result"
    }
   ],
   "source": [
    "df = pd.read_csv('bballref_data/scaled_2000_to_2020.csv', index_col=0)\n",
    "drop_cols = ['age',\n",
    "             'pct_c',\n",
    "             'pct_pf',\n",
    "             'pct_pg',\n",
    "             'pct_sf',\n",
    "             'pct_sg',\n",
    "             'year',\n",
    "             'fg_dunk_per_min',\n",
    "             'fg3_heave',\n",
    "             'fg3a_heave',\n",
    "             'off_rtg',\n",
    "             'def_rtg',\n",
    "             'fg_per_poss',  # already have fg2 per poss and fg3 per poss\n",
    "             'fg_pct',  # already have %s for fg 2s and 3s as well as all the location %s\n",
    "            ]\n",
    "df = df.drop(drop_cols, axis=1)\n",
    "df.shape"
   ]
  },
  {
   "cell_type": "code",
   "execution_count": 132,
   "metadata": {},
   "outputs": [
    {
     "data": {
      "text/plain": [
       "['and1s_per_min',\n",
       " 'ast_pct',\n",
       " 'astd_pts_per_min',\n",
       " 'avg_dist',\n",
       " 'blk_pct',\n",
       " 'bpm',\n",
       " 'dbpm',\n",
       " 'drawn_shooting_per_min',\n",
       " 'drb_pct',\n",
       " 'fg2_pct',\n",
       " 'fg2_per_poss',\n",
       " 'fg2a_per_poss',\n",
       " 'fg3_pct',\n",
       " 'fg3_per_poss',\n",
       " 'fg3a_per_poss',\n",
       " 'fg_dunk',\n",
       " 'fg_pct_00_03',\n",
       " 'fg_pct_03_10',\n",
       " 'fg_pct_10_16',\n",
       " 'fg_pct_16_xx',\n",
       " 'fg_pct_corner3',\n",
       " 'fga_per_poss',\n",
       " 'fouls_offensive_per_min',\n",
       " 'fouls_shooting_per_min',\n",
       " 'ft_pct',\n",
       " 'ft_per_poss',\n",
       " 'fta_per_fga_pct',\n",
       " 'fta_per_poss',\n",
       " 'g',\n",
       " 'gs',\n",
       " 'height',\n",
       " 'mp',\n",
       " 'obpm',\n",
       " 'orb_pct',\n",
       " 'own_shots_blk_per_min',\n",
       " 'pct_ast_fg2',\n",
       " 'pct_ast_fg3',\n",
       " 'pct_fg3a_corner3',\n",
       " 'pct_fga_00_03',\n",
       " 'pct_fga_03_10',\n",
       " 'pct_fga_10_16',\n",
       " 'pct_fga_16_xx',\n",
       " 'pct_fga_dunk',\n",
       " 'pct_fga_fg3a',\n",
       " 'per',\n",
       " 'pf_per_poss',\n",
       " 'plus_minus_net',\n",
       " 'plus_minus_on',\n",
       " 'pts_per_poss',\n",
       " 'stl_pct',\n",
       " 'tov_bad_pass_per_min',\n",
       " 'tov_lost_ball_per_min',\n",
       " 'tov_pct',\n",
       " 'trb_pct',\n",
       " 'ts_pct',\n",
       " 'usg_pct',\n",
       " 'vorp',\n",
       " 'weight']"
      ]
     },
     "execution_count": 132,
     "metadata": {},
     "output_type": "execute_result"
    }
   ],
   "source": [
    "sorted(df.columns)"
   ]
  },
  {
   "cell_type": "code",
   "execution_count": 161,
   "metadata": {},
   "outputs": [],
   "source": [
    "df.to_csv('bballref_data/pre_pca_2000_to_2020.csv')"
   ]
  },
  {
   "cell_type": "markdown",
   "metadata": {},
   "source": [
    "## SLIM Version"
   ]
  },
  {
   "cell_type": "code",
   "execution_count": 171,
   "metadata": {},
   "outputs": [
    {
     "data": {
      "text/plain": [
       "(6541, 48)"
      ]
     },
     "execution_count": 171,
     "metadata": {},
     "output_type": "execute_result"
    }
   ],
   "source": [
    "df = pd.read_csv('bballref_data/scaled_2000_to_2020.csv', index_col=0)\n",
    "drop_cols = ['age',\n",
    "             'pct_c',\n",
    "             'pct_pf',\n",
    "             'pct_pg',\n",
    "             'pct_sf',\n",
    "             'pct_sg',\n",
    "             'year',\n",
    "             'fg3_heave',\n",
    "             'fg3a_heave',\n",
    "             'fg_dunk_per_min',\n",
    "             'off_rtg',\n",
    "             'def_rtg',\n",
    "             'fg_per_poss',  # already have fg2 per poss and fg3 per poss\n",
    "             'fg_pct',  # already have %s for fg 2s and 3s as well as all the location %s\n",
    "             \n",
    "             ### More drop cols for SLIM version\n",
    "             'fg_pct_00_03',\n",
    "             'fg_pct_03_10',\n",
    "             'fg_pct_10_16',\n",
    "             'fg_pct_16_xx',\n",
    "             \n",
    "             'fouls_offensive_per_min',\n",
    "             'fouls_shooting_per_min',\n",
    "             'own_shots_blk_per_min',\n",
    "             'tov_bad_pass_per_min',\n",
    "             'tov_lost_ball_per_min',\n",
    "             \n",
    "#              ## Redundant given attempts and percent?\n",
    "#              'ft_per_poss',\n",
    "#              'fg2_per_poss',\n",
    "#              'fg3_per_poss'\n",
    "             \n",
    "             \n",
    "            ]\n",
    "df_slim = df.drop(drop_cols, axis=1)\n",
    "df_slim.to_csv('bballref_data/pre_pca_2000_to_2020_slim.csv')\n",
    "df_slim.shape"
   ]
  },
  {
   "cell_type": "markdown",
   "metadata": {},
   "source": [
    "## Run pca, see explained variance wrt # principal components"
   ]
  },
  {
   "cell_type": "code",
   "execution_count": 166,
   "metadata": {},
   "outputs": [
    {
     "data": {
      "image/png": "[encoded data removed]",
      "text/plain": [
       "<Figure size 432x288 with 1 Axes>"
      ]
     },
     "metadata": {},
     "output_type": "display_data"
    }
   ],
   "source": [
    "df = pd.read_csv('bballref_data/pre_pca_2000_to_2020.csv', index_col=0)\n",
    "pca = PCA(random_state=seed)\n",
    "pca.fit(df)\n",
    "\n",
    "cumulative_exp_var = pca.explained_variance_ratio_.cumsum()\n",
    "\n",
    "s = sns.scatterplot(data=cumulative_exp_var)\n",
    "s.set_title('Cumulative explained variance for principal components', fontsize=14)\n",
    "s.set_xlabel('Number of principal components')\n",
    "s.set_ylabel('Cumulative explained variance')\n",
    "plt.tight_layout()"
   ]
  },
  {
   "cell_type": "code",
   "execution_count": 167,
   "metadata": {},
   "outputs": [
    {
     "name": "stdout",
     "output_type": "stream",
     "text": [
      "0 :  0.257486125963337\n",
      "1 :  0.45610404166085405\n",
      "2 :  0.541414373434916\n",
      "3 :  0.6028059354329128\n",
      "4 :  0.6494670802499678\n",
      "5 :  0.6819634704868708\n",
      "6 :  0.7113145726449244\n",
      "7 :  0.7370630991230842\n",
      "8 :  0.7605663310779113\n",
      "9 :  0.7814982988016776\n",
      "10 :  0.7988167138312569\n",
      "11 :  0.814995574047926\n",
      "12 :  0.8292028475069194\n",
      "13 :  0.8431439057177419\n",
      "14 :  0.8568917444242766\n",
      "15 :  0.8691122816537336\n",
      "16 :  0.8805371888879234\n",
      "17 :  0.890424228746446\n",
      "18 :  0.8997148187145452\n",
      "19 :  0.9088211790483884\n",
      "20 :  0.9174169602880036\n",
      "21 :  0.9253460392491354\n",
      "22 :  0.9329987748562975\n",
      "23 :  0.9402613612011075\n",
      "24 :  0.9465368093009953\n",
      "25 :  0.9525425304970538\n",
      "26 :  0.9577022937174302\n",
      "27 :  0.9625057364031705\n",
      "28 :  0.9669622515400031\n",
      "29 :  0.97120404846576\n",
      "30 :  0.9750593129691445\n",
      "31 :  0.9784655846923453\n",
      "32 :  0.9814181716199654\n",
      "33 :  0.9842161397990662\n",
      "34 :  0.986786606292088\n",
      "35 :  0.9885833258625812\n",
      "36 :  0.9902471382701659\n",
      "37 :  0.9917833730820466\n",
      "38 :  0.993176431924944\n",
      "39 :  0.9944501620157871\n",
      "40 :  0.9955147314873672\n",
      "41 :  0.9964242568594655\n",
      "42 :  0.9971857458707657\n",
      "43 :  0.9978187893814419\n",
      "44 :  0.9983948819430105\n",
      "45 :  0.9989044130940616\n",
      "46 :  0.9992831443461097\n",
      "47 :  0.9995533584245391\n",
      "48 :  0.9997379078682058\n",
      "49 :  0.999831642522244\n",
      "50 :  0.9998884771699198\n",
      "51 :  0.9999215932934009\n",
      "52 :  0.9999507727282886\n",
      "53 :  0.9999790791157613\n",
      "54 :  0.9999965578220362\n",
      "55 :  0.99999976257922\n",
      "56 :  0.9999999999999998\n"
     ]
    }
   ],
   "source": [
    "for i, exp_var in enumerate(cumulative_exp_var):\n",
    "    print(i, ': ', exp_var)"
   ]
  },
  {
   "cell_type": "markdown",
   "metadata": {},
   "source": [
    "### Thresholds\n",
    "- 90% : 19\n",
    "- 95% : 25\n",
    "- 99% : 37\n",
    "- 99.9% : 48"
   ]
  },
  {
   "cell_type": "markdown",
   "metadata": {},
   "source": [
    "## Run pca with 99% var"
   ]
  },
  {
   "cell_type": "code",
   "execution_count": 164,
   "metadata": {},
   "outputs": [
    {
     "name": "stdout",
     "output_type": "stream",
     "text": [
      "37\n"
     ]
    }
   ],
   "source": [
    "pca = PCA(0.99)\n",
    "df = pd.read_csv('bballref_data/pre_pca_2000_to_2020.csv', index_col=0)\n",
    "pca_data = pca.fit_transform(df)\n",
    "print(pca.n_components_)\n",
    "df_pca = pd.DataFrame(pca_data, index=df.index, columns=[f'pc_{n}' for n in range(pca.n_components_)])\n",
    "df_pca.to_csv('bballref_data/pca99_2000_to_2020.csv')"
   ]
  },
  {
   "cell_type": "markdown",
   "metadata": {},
   "source": [
    "## SLIM PCA Version"
   ]
  },
  {
   "cell_type": "code",
   "execution_count": 172,
   "metadata": {},
   "outputs": [
    {
     "data": {
      "image/png": "[encoded data removed]",
      "text/plain": [
       "<Figure size 432x288 with 1 Axes>"
      ]
     },
     "metadata": {},
     "output_type": "display_data"
    }
   ],
   "source": [
    "df_slim = pd.read_csv('bballref_data/pre_pca_2000_to_2020_slim.csv', index_col=0)\n",
    "pca = PCA(random_state=seed)\n",
    "pca.fit(df_slim)\n",
    "\n",
    "cumulative_exp_var = pca.explained_variance_ratio_.cumsum()\n",
    "\n",
    "s = sns.scatterplot(data=cumulative_exp_var)\n",
    "s.set_title('Cumulative explained variance for principal components', fontsize=14)\n",
    "s.set_xlabel('Number of principal components')\n",
    "s.set_ylabel('Cumulative explained variance')\n",
    "plt.tight_layout()"
   ]
  },
  {
   "cell_type": "code",
   "execution_count": 173,
   "metadata": {},
   "outputs": [
    {
     "name": "stdout",
     "output_type": "stream",
     "text": [
      "0 :  0.27851231617204725\n",
      "1 :  0.49377700247055\n",
      "2 :  0.5815418125115442\n",
      "3 :  0.6459363389845167\n",
      "4 :  0.6948457748705348\n",
      "5 :  0.7284963198416179\n",
      "6 :  0.7602955569169159\n",
      "7 :  0.7866408850932448\n",
      "8 :  0.810561811418597\n",
      "9 :  0.8289215022740991\n",
      "10 :  0.8467820883936018\n",
      "11 :  0.8630380097831385\n",
      "12 :  0.8776953797650797\n",
      "13 :  0.8919088318718574\n",
      "14 :  0.9030445511825936\n",
      "15 :  0.9138352397731149\n",
      "16 :  0.923240265723565\n",
      "17 :  0.932218230879953\n",
      "18 :  0.9401965328287977\n",
      "19 :  0.9474457886852218\n",
      "20 :  0.9541411024209631\n",
      "21 :  0.9599358094925683\n",
      "22 :  0.965349952988223\n",
      "23 :  0.9705365637242873\n",
      "24 :  0.9751323489613596\n",
      "25 :  0.9793196124603605\n",
      "26 :  0.9830786598796539\n",
      "27 :  0.9863851467523891\n",
      "28 :  0.9889161690781391\n",
      "29 :  0.9909567428495759\n",
      "30 :  0.9927333954346508\n",
      "31 :  0.9943544331028698\n",
      "32 :  0.9956143568138995\n",
      "33 :  0.996532128335918\n",
      "34 :  0.99729452780196\n",
      "35 :  0.9980145917523319\n",
      "36 :  0.9986456456241537\n",
      "37 :  0.999117208924199\n",
      "38 :  0.9994608007885627\n",
      "39 :  0.9996853631991882\n",
      "40 :  0.9997978333828477\n",
      "41 :  0.9998658620581412\n",
      "42 :  0.9999055468221892\n",
      "43 :  0.9999409642616748\n",
      "44 :  0.9999748314264962\n",
      "45 :  0.9999959087502476\n",
      "46 :  0.9999997174772962\n",
      "47 :  1.0\n"
     ]
    }
   ],
   "source": [
    "for i, exp_var in enumerate(cumulative_exp_var):\n",
    "    print(i, ': ', exp_var)"
   ]
  },
  {
   "cell_type": "code",
   "execution_count": 174,
   "metadata": {},
   "outputs": [
    {
     "name": "stdout",
     "output_type": "stream",
     "text": [
      "30\n"
     ]
    }
   ],
   "source": [
    "pca = PCA(0.99)\n",
    "df = pd.read_csv('bballref_data/pre_pca_2000_to_2020_slim.csv', index_col=0)\n",
    "pca_data = pca.fit_transform(df)\n",
    "print(pca.n_components_)\n",
    "df_pca = pd.DataFrame(pca_data, index=df.index, columns=[f'pc_{n}' for n in range(pca.n_components_)])\n",
    "df_pca.to_csv('bballref_data/pca99_2000_to_2020_slim.csv')"
   ]
  },
  {
   "cell_type": "markdown",
   "metadata": {},
   "source": [
    "# Worksheet below"
   ]
  },
  {
   "cell_type": "code",
   "execution_count": null,
   "metadata": {},
   "outputs": [],
   "source": []
  },
  {
   "cell_type": "markdown",
   "metadata": {},
   "source": [
    "## Add back in Charges drawn as data starts in 2000"
   ]
  },
  {
   "cell_type": "code",
   "execution_count": 14,
   "metadata": {},
   "outputs": [
    {
     "data": {
      "text/plain": [
       "(11162, 92)"
      ]
     },
     "execution_count": 14,
     "metadata": {},
     "output_type": "execute_result"
    }
   ],
   "source": [
    "df_master = pd.read_csv('bballref_data/master_raw_nba_data.csv', index_col=0)\n",
    "df_master.shape"
   ]
  },
  {
   "cell_type": "code",
   "execution_count": 24,
   "metadata": {},
   "outputs": [
    {
     "data": {
      "text/plain": [
       "(6542, 92)"
      ]
     },
     "execution_count": 24,
     "metadata": {},
     "output_type": "execute_result"
    }
   ],
   "source": [
    "df_master_2000 = df_master.loc[df.index, :]\n",
    "df_master_2000.shape\n",
    "\n",
    "df = df.merge(df_master_2000['drawn_offensive'], left_index=True, right_index=True)"
   ]
  },
  {
   "cell_type": "code",
   "execution_count": 26,
   "metadata": {},
   "outputs": [
    {
     "data": {
      "text/plain": [
       "(6542, 66)"
      ]
     },
     "execution_count": 26,
     "metadata": {},
     "output_type": "execute_result"
    },
    {
     "data": {
      "text/plain": [
       "1486"
      ]
     },
     "execution_count": 26,
     "metadata": {},
     "output_type": "execute_result"
    }
   ],
   "source": [
    "df.shape\n",
    "df['drawn_offensive'].isna().sum()"
   ]
  },
  {
   "cell_type": "code",
   "execution_count": null,
   "metadata": {},
   "outputs": [],
   "source": []
  }
 ],
 "metadata": {
  "kernelspec": {
   "display_name": "nba",
   "language": "python",
   "name": "nba"
  },
  "language_info": {
   "codemirror_mode": {
    "name": "ipython",
    "version": 3
   },
   "file_extension": ".py",
   "mimetype": "text/x-python",
   "name": "python",
   "nbconvert_exporter": "python",
   "pygments_lexer": "ipython3",
   "version": "3.8.5"
  }
 },
 "nbformat": 4,
 "nbformat_minor": 4
}
