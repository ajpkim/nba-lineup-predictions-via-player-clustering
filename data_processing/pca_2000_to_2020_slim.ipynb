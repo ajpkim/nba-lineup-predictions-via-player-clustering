{
 "cells": [
  {
   "cell_type": "code",
   "execution_count": 4,
   "metadata": {},
   "outputs": [],
   "source": [
    "import pandas as pd\n",
    "import numpy as np\n",
    "import sklearn\n",
    "from sklearn.decomposition import PCA\n",
    "from sklearn.preprocessing import StandardScaler\n",
    "import matplotlib.pyplot as plt\n",
    "%matplotlib inline\n",
    "import seaborn as sns; sns.set()\n",
    "\n",
    "seed = 3\n",
    "\n",
    "# from IPython.core.interactiveshell import InteractiveShell\n",
    "# InteractiveShell.ast_node_interactivity = \"all\""
   ]
  },
  {
   "cell_type": "markdown",
   "metadata": {},
   "source": [
    "# Decide on columns and run pca, save transformed data"
   ]
  },
  {
   "cell_type": "code",
   "execution_count": 5,
   "metadata": {},
   "outputs": [
    {
     "data": {
      "text/plain": [
       "(6541, 71)"
      ]
     },
     "execution_count": 5,
     "metadata": {},
     "output_type": "execute_result"
    }
   ],
   "source": [
    "df = pd.read_csv('../bballref_data/scaled_2000_to_2020.csv', index_col=0)\n",
    "df.shape"
   ]
  },
  {
   "cell_type": "code",
   "execution_count": 6,
   "metadata": {},
   "outputs": [
    {
     "data": {
      "text/plain": [
       "['age',\n",
       " 'and1s_per_min',\n",
       " 'ast_pct',\n",
       " 'astd_pts_per_min',\n",
       " 'avg_dist',\n",
       " 'blk_pct',\n",
       " 'bpm',\n",
       " 'dbpm',\n",
       " 'def_rtg',\n",
       " 'drawn_shooting_per_min',\n",
       " 'drb_pct',\n",
       " 'fg2_pct',\n",
       " 'fg2_per_poss',\n",
       " 'fg2a_per_poss',\n",
       " 'fg3_heave',\n",
       " 'fg3_pct',\n",
       " 'fg3_per_poss',\n",
       " 'fg3a_heave',\n",
       " 'fg3a_per_poss',\n",
       " 'fg_dunk_per_min',\n",
       " 'fg_pct',\n",
       " 'fg_pct_00_03',\n",
       " 'fg_pct_03_10',\n",
       " 'fg_pct_10_16',\n",
       " 'fg_pct_16_xx',\n",
       " 'fg_pct_corner3',\n",
       " 'fg_per_poss',\n",
       " 'fga_per_poss',\n",
       " 'fouls_offensive_per_min',\n",
       " 'fouls_shooting_per_min',\n",
       " 'ft_pct',\n",
       " 'ft_per_poss',\n",
       " 'fta_per_fga_pct',\n",
       " 'fta_per_poss',\n",
       " 'g',\n",
       " 'gs',\n",
       " 'height',\n",
       " 'mp',\n",
       " 'obpm',\n",
       " 'off_rtg',\n",
       " 'orb_pct',\n",
       " 'own_shots_blk_per_min',\n",
       " 'pct_ast_fg2',\n",
       " 'pct_ast_fg3',\n",
       " 'pct_c',\n",
       " 'pct_fg3a_corner3',\n",
       " 'pct_fga_00_03',\n",
       " 'pct_fga_03_10',\n",
       " 'pct_fga_10_16',\n",
       " 'pct_fga_16_xx',\n",
       " 'pct_fga_dunk',\n",
       " 'pct_fga_fg3a',\n",
       " 'pct_pf',\n",
       " 'pct_pg',\n",
       " 'pct_sf',\n",
       " 'pct_sg',\n",
       " 'per',\n",
       " 'pf_per_poss',\n",
       " 'plus_minus_net',\n",
       " 'plus_minus_on',\n",
       " 'pts_per_poss',\n",
       " 'stl_pct',\n",
       " 'tov_bad_pass_per_min',\n",
       " 'tov_lost_ball_per_min',\n",
       " 'tov_pct',\n",
       " 'trb_pct',\n",
       " 'ts_pct',\n",
       " 'usg_pct',\n",
       " 'vorp',\n",
       " 'weight',\n",
       " 'year']"
      ]
     },
     "execution_count": 6,
     "metadata": {},
     "output_type": "execute_result"
    }
   ],
   "source": [
    "sorted(df.columns)"
   ]
  },
  {
   "cell_type": "code",
   "execution_count": 14,
   "metadata": {},
   "outputs": [],
   "source": [
    "df = pd.read_csv('../bballref_data/scaled_2000_to_2020.csv', index_col=0)\n",
    "drop_cols = ['age',\n",
    "             'pct_c',\n",
    "             'pct_pf',\n",
    "             'pct_pg',\n",
    "             'pct_sf',\n",
    "             'pct_sg',\n",
    "             'year',\n",
    "             'fg3_heave',\n",
    "             'fg3a_heave',\n",
    "             'fg_dunk_per_min',\n",
    "             'fg_per_poss',  # already have fg2 per poss and fg3 per poss\n",
    "             'fg_pct',  # already have %s for fg 2s and 3s as well as all the location %s\n",
    "             \n",
    "             ### More drop cols for SLIM version\n",
    "             'fg_pct_00_03',\n",
    "             'fg_pct_03_10',\n",
    "             'fg_pct_10_16',\n",
    "             'fg_pct_16_xx',\n",
    "             \n",
    "             'fouls_offensive_per_min',\n",
    "             'fouls_shooting_per_min',\n",
    "             'own_shots_blk_per_min',\n",
    "             'tov_bad_pass_per_min',\n",
    "             'tov_lost_ball_per_min',\n",
    "             \n",
    "             'plus_minus_on',\n",
    "             'plus_minus_net'\n",
    "             \n",
    "             \n",
    "#              ## Redundant given attempts and percent?\n",
    "#              'ft_per_poss',\n",
    "#              'fg2_per_poss',\n",
    "#              'fg3_per_poss'\n",
    "             \n",
    "             \n",
    "            ]\n",
    "\n",
    "df = df.drop(drop_cols, axis=1)"
   ]
  },
  {
   "cell_type": "code",
   "execution_count": 15,
   "metadata": {},
   "outputs": [
    {
     "data": {
      "text/plain": [
       "['and1s_per_min',\n",
       " 'ast_pct',\n",
       " 'astd_pts_per_min',\n",
       " 'avg_dist',\n",
       " 'blk_pct',\n",
       " 'bpm',\n",
       " 'dbpm',\n",
       " 'def_rtg',\n",
       " 'drawn_shooting_per_min',\n",
       " 'drb_pct',\n",
       " 'fg2_pct',\n",
       " 'fg2_per_poss',\n",
       " 'fg2a_per_poss',\n",
       " 'fg3_pct',\n",
       " 'fg3_per_poss',\n",
       " 'fg3a_per_poss',\n",
       " 'fg_pct_corner3',\n",
       " 'fga_per_poss',\n",
       " 'ft_pct',\n",
       " 'ft_per_poss',\n",
       " 'fta_per_fga_pct',\n",
       " 'fta_per_poss',\n",
       " 'g',\n",
       " 'gs',\n",
       " 'height',\n",
       " 'mp',\n",
       " 'obpm',\n",
       " 'off_rtg',\n",
       " 'orb_pct',\n",
       " 'pct_ast_fg2',\n",
       " 'pct_ast_fg3',\n",
       " 'pct_fg3a_corner3',\n",
       " 'pct_fga_00_03',\n",
       " 'pct_fga_03_10',\n",
       " 'pct_fga_10_16',\n",
       " 'pct_fga_16_xx',\n",
       " 'pct_fga_dunk',\n",
       " 'pct_fga_fg3a',\n",
       " 'per',\n",
       " 'pf_per_poss',\n",
       " 'pts_per_poss',\n",
       " 'stl_pct',\n",
       " 'tov_pct',\n",
       " 'trb_pct',\n",
       " 'ts_pct',\n",
       " 'usg_pct',\n",
       " 'vorp',\n",
       " 'weight']"
      ]
     },
     "execution_count": 15,
     "metadata": {},
     "output_type": "execute_result"
    }
   ],
   "source": [
    "sorted(df.columns)"
   ]
  },
  {
   "cell_type": "code",
   "execution_count": 16,
   "metadata": {},
   "outputs": [
    {
     "data": {
      "text/plain": [
       "(6541, 48)"
      ]
     },
     "execution_count": 16,
     "metadata": {},
     "output_type": "execute_result"
    }
   ],
   "source": [
    "df.to_csv('../bballref_data/pre_pca_2000_to_2020_slim.csv')\n",
    "df.shape"
   ]
  },
  {
   "cell_type": "markdown",
   "metadata": {},
   "source": [
    "## Run pca, see explained variance wrt # principal components"
   ]
  },
  {
   "cell_type": "code",
   "execution_count": 17,
   "metadata": {},
   "outputs": [
    {
     "data": {
      "image/png": "[encoded data removed]",
      "text/plain": [
       "<Figure size 432x288 with 1 Axes>"
      ]
     },
     "metadata": {},
     "output_type": "display_data"
    }
   ],
   "source": [
    "df = pd.read_csv('../bballref_data/pre_pca_2000_to_2020_slim.csv', index_col=0)\n",
    "pca = PCA(random_state=seed)\n",
    "pca.fit(df)\n",
    "\n",
    "cumulative_exp_var = pca.explained_variance_ratio_.cumsum()\n",
    "\n",
    "s = sns.scatterplot(data=cumulative_exp_var)\n",
    "s.set_title('Cumulative explained variance for principal components', fontsize=14)\n",
    "s.set_xlabel('Number of principal components')\n",
    "s.set_ylabel('Cumulative explained variance')\n",
    "plt.tight_layout()"
   ]
  },
  {
   "cell_type": "code",
   "execution_count": 18,
   "metadata": {},
   "outputs": [
    {
     "name": "stdout",
     "output_type": "stream",
     "text": [
      "0 :  0.283426253367465\n",
      "1 :  0.4971107815799372\n",
      "2 :  0.5877343699792168\n",
      "3 :  0.651989215852489\n",
      "4 :  0.703787870321947\n",
      "5 :  0.7409900092233728\n",
      "6 :  0.7729462495144562\n",
      "7 :  0.8025154910090384\n",
      "8 :  0.8265864934304378\n",
      "9 :  0.8447273735757809\n",
      "10 :  0.8608885500895874\n",
      "11 :  0.8763485808487906\n",
      "12 :  0.8904936783258036\n",
      "13 :  0.902145890153413\n",
      "14 :  0.9122070440182344\n",
      "15 :  0.9216325790571582\n",
      "16 :  0.9309346556203009\n",
      "17 :  0.9390921938405633\n",
      "18 :  0.9468499580720094\n",
      "19 :  0.9542408840998409\n",
      "20 :  0.9597999927663546\n",
      "21 :  0.9652884370408706\n",
      "22 :  0.9704752791886438\n",
      "23 :  0.9750939084339543\n",
      "24 :  0.9793779409849401\n",
      "25 :  0.9831565561858244\n",
      "26 :  0.9861513848242013\n",
      "27 :  0.9886490312449159\n",
      "28 :  0.9906344998567064\n",
      "29 :  0.9924479954466457\n",
      "30 :  0.9941275232780838\n",
      "31 :  0.9952545122935417\n",
      "32 :  0.9961771560961817\n",
      "33 :  0.9969536749126342\n",
      "34 :  0.9976768870726053\n",
      "35 :  0.9983425099793908\n",
      "36 :  0.9988781118884129\n",
      "37 :  0.9992828349861391\n",
      "38 :  0.9995362034172212\n",
      "39 :  0.999691436465798\n",
      "40 :  0.9997992766159598\n",
      "41 :  0.9998667749559643\n",
      "42 :  0.9999056141911841\n",
      "43 :  0.9999409285322185\n",
      "44 :  0.9999751086929137\n",
      "45 :  0.9999959090220649\n",
      "46 :  0.9999997174159242\n",
      "47 :  0.9999999999999996\n"
     ]
    }
   ],
   "source": [
    "for i, exp_var in enumerate(cumulative_exp_var):\n",
    "    print(i, ': ', exp_var)"
   ]
  },
  {
   "cell_type": "markdown",
   "metadata": {},
   "source": [
    "### Thresholds\n",
    "- 90% : 19\n",
    "- 95% : 25\n",
    "- 99% : 37\n",
    "- 99.9% : 48"
   ]
  },
  {
   "cell_type": "markdown",
   "metadata": {},
   "source": [
    "## Run pca with 99% var"
   ]
  },
  {
   "cell_type": "code",
   "execution_count": 19,
   "metadata": {},
   "outputs": [
    {
     "name": "stdout",
     "output_type": "stream",
     "text": [
      "29\n"
     ]
    }
   ],
   "source": [
    "pca = PCA(0.99, random_state=seed)\n",
    "df = pd.read_csv('../bballref_data/pre_pca_2000_to_2020_slim.csv', index_col=0)\n",
    "pca_data = pca.fit_transform(df)\n",
    "print(pca.n_components_)\n",
    "df_pca = pd.DataFrame(pca_data, index=df.index, columns=[f'pc_{n}' for n in range(pca.n_components_)])\n",
    "df_pca.to_csv('../bballref_data/pca99_slim_2000_to_2020.csv')"
   ]
  },
  {
   "cell_type": "code",
   "execution_count": null,
   "metadata": {},
   "outputs": [],
   "source": []
  }
 ],
 "metadata": {
  "kernelspec": {
   "display_name": "nba",
   "language": "python",
   "name": "nba"
  },
  "language_info": {
   "codemirror_mode": {
    "name": "ipython",
    "version": 3
   },
   "file_extension": ".py",
   "mimetype": "text/x-python",
   "name": "python",
   "nbconvert_exporter": "python",
   "pygments_lexer": "ipython3",
   "version": "3.8.5"
  }
 },
 "nbformat": 4,
 "nbformat_minor": 4
}
