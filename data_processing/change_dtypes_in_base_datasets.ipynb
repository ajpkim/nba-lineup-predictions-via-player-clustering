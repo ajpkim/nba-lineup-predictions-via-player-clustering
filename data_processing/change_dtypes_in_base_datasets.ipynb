{
 "cells": [
  {
   "cell_type": "code",
   "execution_count": 122,
   "metadata": {},
   "outputs": [],
   "source": [
    "import pandas as pd\n",
    "import numpy as np"
   ]
  },
  {
   "cell_type": "markdown",
   "metadata": {},
   "source": [
    "# Convert height and position percent cols to floats in the \"clean\" base datatset"
   ]
  },
  {
   "cell_type": "code",
   "execution_count": 123,
   "metadata": {},
   "outputs": [
    {
     "name": "stdout",
     "output_type": "stream",
     "text": [
      "(7363, 91)\n"
     ]
    },
    {
     "data": {
      "text/html": [
       "<div>\n",
       "<style scoped>\n",
       "    .dataframe tbody tr th:only-of-type {\n",
       "        vertical-align: middle;\n",
       "    }\n",
       "\n",
       "    .dataframe tbody tr th {\n",
       "        vertical-align: top;\n",
       "    }\n",
       "\n",
       "    .dataframe thead th {\n",
       "        text-align: right;\n",
       "    }\n",
       "</style>\n",
       "<table border=\"1\" class=\"dataframe\">\n",
       "  <thead>\n",
       "    <tr style=\"text-align: right;\">\n",
       "      <th></th>\n",
       "      <th>player_id</th>\n",
       "      <th>pos</th>\n",
       "      <th>age</th>\n",
       "      <th>team_id</th>\n",
       "      <th>g</th>\n",
       "      <th>mp</th>\n",
       "      <th>per</th>\n",
       "      <th>ts_pct</th>\n",
       "      <th>fg3a_per_fga_pct</th>\n",
       "      <th>fta_per_fga_pct</th>\n",
       "      <th>...</th>\n",
       "      <th>orb_per_poss</th>\n",
       "      <th>pf_per_poss</th>\n",
       "      <th>pts_per_poss</th>\n",
       "      <th>stl_per_poss</th>\n",
       "      <th>tov_per_poss</th>\n",
       "      <th>trb_per_poss</th>\n",
       "      <th>height</th>\n",
       "      <th>weight</th>\n",
       "      <th>salary</th>\n",
       "      <th>nationality</th>\n",
       "    </tr>\n",
       "    <tr>\n",
       "      <th>player</th>\n",
       "      <th></th>\n",
       "      <th></th>\n",
       "      <th></th>\n",
       "      <th></th>\n",
       "      <th></th>\n",
       "      <th></th>\n",
       "      <th></th>\n",
       "      <th></th>\n",
       "      <th></th>\n",
       "      <th></th>\n",
       "      <th></th>\n",
       "      <th></th>\n",
       "      <th></th>\n",
       "      <th></th>\n",
       "      <th></th>\n",
       "      <th></th>\n",
       "      <th></th>\n",
       "      <th></th>\n",
       "      <th></th>\n",
       "      <th></th>\n",
       "      <th></th>\n",
       "    </tr>\n",
       "  </thead>\n",
       "  <tbody>\n",
       "    <tr>\n",
       "      <th>Mahmoud Abdul-Rauf 1997</th>\n",
       "      <td>abdulma02</td>\n",
       "      <td>PG</td>\n",
       "      <td>27</td>\n",
       "      <td>SAC</td>\n",
       "      <td>75</td>\n",
       "      <td>2131</td>\n",
       "      <td>13.2</td>\n",
       "      <td>0.524</td>\n",
       "      <td>0.266</td>\n",
       "      <td>0.147</td>\n",
       "      <td>...</td>\n",
       "      <td>0.4</td>\n",
       "      <td>4.3</td>\n",
       "      <td>25.5</td>\n",
       "      <td>1.4</td>\n",
       "      <td>2.9</td>\n",
       "      <td>3.0</td>\n",
       "      <td>6-1</td>\n",
       "      <td>162</td>\n",
       "      <td>3100000.0</td>\n",
       "      <td>United States of America</td>\n",
       "    </tr>\n",
       "    <tr>\n",
       "      <th>Shareef Abdur-Rahim 1997</th>\n",
       "      <td>abdursh01</td>\n",
       "      <td>PF</td>\n",
       "      <td>20</td>\n",
       "      <td>VAN</td>\n",
       "      <td>80</td>\n",
       "      <td>2802</td>\n",
       "      <td>17.4</td>\n",
       "      <td>0.518</td>\n",
       "      <td>0.022</td>\n",
       "      <td>0.428</td>\n",
       "      <td>...</td>\n",
       "      <td>4.2</td>\n",
       "      <td>3.9</td>\n",
       "      <td>28.9</td>\n",
       "      <td>1.5</td>\n",
       "      <td>4.4</td>\n",
       "      <td>10.7</td>\n",
       "      <td>6-9</td>\n",
       "      <td>225</td>\n",
       "      <td>2186000.0</td>\n",
       "      <td>United States of America</td>\n",
       "    </tr>\n",
       "    <tr>\n",
       "      <th>Cory Alexander 1997</th>\n",
       "      <td>alexaco01</td>\n",
       "      <td>PG</td>\n",
       "      <td>23</td>\n",
       "      <td>SAS</td>\n",
       "      <td>80</td>\n",
       "      <td>1454</td>\n",
       "      <td>14.3</td>\n",
       "      <td>0.528</td>\n",
       "      <td>0.514</td>\n",
       "      <td>0.263</td>\n",
       "      <td>...</td>\n",
       "      <td>1.1</td>\n",
       "      <td>5.6</td>\n",
       "      <td>21.8</td>\n",
       "      <td>3.1</td>\n",
       "      <td>5.5</td>\n",
       "      <td>4.7</td>\n",
       "      <td>6-1</td>\n",
       "      <td>185</td>\n",
       "      <td>521000.0</td>\n",
       "      <td>United States of America</td>\n",
       "    </tr>\n",
       "    <tr>\n",
       "      <th>Jerome Allen 1997</th>\n",
       "      <td>allenje01</td>\n",
       "      <td>SG</td>\n",
       "      <td>24</td>\n",
       "      <td>TOT</td>\n",
       "      <td>76</td>\n",
       "      <td>943</td>\n",
       "      <td>8.7</td>\n",
       "      <td>0.451</td>\n",
       "      <td>0.421</td>\n",
       "      <td>0.326</td>\n",
       "      <td>...</td>\n",
       "      <td>1.4</td>\n",
       "      <td>4.8</td>\n",
       "      <td>12.9</td>\n",
       "      <td>1.8</td>\n",
       "      <td>3.9</td>\n",
       "      <td>5.5</td>\n",
       "      <td>6-4</td>\n",
       "      <td>184</td>\n",
       "      <td>247500.0</td>\n",
       "      <td>United States of America</td>\n",
       "    </tr>\n",
       "    <tr>\n",
       "      <th>Ray Allen 1997</th>\n",
       "      <td>allenra02</td>\n",
       "      <td>SG</td>\n",
       "      <td>21</td>\n",
       "      <td>MIL</td>\n",
       "      <td>82</td>\n",
       "      <td>2532</td>\n",
       "      <td>14.6</td>\n",
       "      <td>0.541</td>\n",
       "      <td>0.328</td>\n",
       "      <td>0.274</td>\n",
       "      <td>...</td>\n",
       "      <td>2.1</td>\n",
       "      <td>4.6</td>\n",
       "      <td>23.3</td>\n",
       "      <td>1.6</td>\n",
       "      <td>3.2</td>\n",
       "      <td>6.9</td>\n",
       "      <td>6-5</td>\n",
       "      <td>205</td>\n",
       "      <td>1785000.0</td>\n",
       "      <td>United States of America</td>\n",
       "    </tr>\n",
       "  </tbody>\n",
       "</table>\n",
       "<p>5 rows × 91 columns</p>\n",
       "</div>"
      ],
      "text/plain": [
       "                          player_id pos  age team_id   g    mp   per  ts_pct  \\\n",
       "player                                                                         \n",
       "Mahmoud Abdul-Rauf 1997   abdulma02  PG   27     SAC  75  2131  13.2   0.524   \n",
       "Shareef Abdur-Rahim 1997  abdursh01  PF   20     VAN  80  2802  17.4   0.518   \n",
       "Cory Alexander 1997       alexaco01  PG   23     SAS  80  1454  14.3   0.528   \n",
       "Jerome Allen 1997         allenje01  SG   24     TOT  76   943   8.7   0.451   \n",
       "Ray Allen 1997            allenra02  SG   21     MIL  82  2532  14.6   0.541   \n",
       "\n",
       "                          fg3a_per_fga_pct  fta_per_fga_pct  ...  \\\n",
       "player                                                       ...   \n",
       "Mahmoud Abdul-Rauf 1997              0.266            0.147  ...   \n",
       "Shareef Abdur-Rahim 1997             0.022            0.428  ...   \n",
       "Cory Alexander 1997                  0.514            0.263  ...   \n",
       "Jerome Allen 1997                    0.421            0.326  ...   \n",
       "Ray Allen 1997                       0.328            0.274  ...   \n",
       "\n",
       "                          orb_per_poss  pf_per_poss  pts_per_poss  \\\n",
       "player                                                              \n",
       "Mahmoud Abdul-Rauf 1997            0.4          4.3          25.5   \n",
       "Shareef Abdur-Rahim 1997           4.2          3.9          28.9   \n",
       "Cory Alexander 1997                1.1          5.6          21.8   \n",
       "Jerome Allen 1997                  1.4          4.8          12.9   \n",
       "Ray Allen 1997                     2.1          4.6          23.3   \n",
       "\n",
       "                          stl_per_poss  tov_per_poss  trb_per_poss  height  \\\n",
       "player                                                                       \n",
       "Mahmoud Abdul-Rauf 1997            1.4           2.9           3.0     6-1   \n",
       "Shareef Abdur-Rahim 1997           1.5           4.4          10.7     6-9   \n",
       "Cory Alexander 1997                3.1           5.5           4.7     6-1   \n",
       "Jerome Allen 1997                  1.8           3.9           5.5     6-4   \n",
       "Ray Allen 1997                     1.6           3.2           6.9     6-5   \n",
       "\n",
       "                          weight     salary               nationality  \n",
       "player                                                                 \n",
       "Mahmoud Abdul-Rauf 1997      162  3100000.0  United States of America  \n",
       "Shareef Abdur-Rahim 1997     225  2186000.0  United States of America  \n",
       "Cory Alexander 1997          185   521000.0  United States of America  \n",
       "Jerome Allen 1997            184   247500.0  United States of America  \n",
       "Ray Allen 1997               205  1785000.0  United States of America  \n",
       "\n",
       "[5 rows x 91 columns]"
      ]
     },
     "execution_count": 123,
     "metadata": {},
     "output_type": "execute_result"
    }
   ],
   "source": [
    "df_clean = pd.read_csv('bballref_data/clean_1997_to_2020.csv', index_col=0)\n",
    "print(df_clean.shape)\n",
    "df_clean.head()"
   ]
  },
  {
   "cell_type": "code",
   "execution_count": 124,
   "metadata": {},
   "outputs": [
    {
     "data": {
      "text/plain": [
       "float64    63\n",
       "int64      17\n",
       "object     11\n",
       "dtype: int64"
      ]
     },
     "execution_count": 124,
     "metadata": {},
     "output_type": "execute_result"
    }
   ],
   "source": [
    "df_clean.dtypes.value_counts()"
   ]
  },
  {
   "cell_type": "code",
   "execution_count": 125,
   "metadata": {},
   "outputs": [
    {
     "data": {
      "text/plain": [
       "['height',\n",
       " 'nationality',\n",
       " 'pct_c',\n",
       " 'pct_pf',\n",
       " 'pct_pg',\n",
       " 'pct_sf',\n",
       " 'pct_sg',\n",
       " 'player_id',\n",
       " 'pos',\n",
       " 'salary',\n",
       " 'team_id']"
      ]
     },
     "execution_count": 125,
     "metadata": {},
     "output_type": "execute_result"
    }
   ],
   "source": [
    "sorted(df_clean.select_dtypes('O').columns)"
   ]
  },
  {
   "cell_type": "code",
   "execution_count": 126,
   "metadata": {},
   "outputs": [
    {
     "data": {
      "text/plain": [
       "player\n",
       "Mahmoud Abdul-Rauf 1997     6-1\n",
       "Shareef Abdur-Rahim 1997    6-9\n",
       "Cory Alexander 1997         6-1\n",
       "Jerome Allen 1997           6-4\n",
       "Ray Allen 1997              6-5\n",
       "                           ... \n",
       "Delon Wright 2020           6-5\n",
       "Thaddeus Young 2020         6-8\n",
       "Trae Young 2020             6-1\n",
       "Cody Zeller 2020            7-0\n",
       "Ivica Zubac 2020            7-0\n",
       "Name: height, Length: 7363, dtype: object"
      ]
     },
     "execution_count": 126,
     "metadata": {},
     "output_type": "execute_result"
    }
   ],
   "source": [
    "df_clean['height']"
   ]
  },
  {
   "cell_type": "code",
   "execution_count": 127,
   "metadata": {},
   "outputs": [],
   "source": [
    "df_clean.loc[:, 'height'] = df_clean['height'].apply(lambda x: (int(x[0]) * 12) + int(x[-1]))"
   ]
  },
  {
   "cell_type": "code",
   "execution_count": 128,
   "metadata": {},
   "outputs": [
    {
     "data": {
      "text/plain": [
       "player\n",
       "Mahmoud Abdul-Rauf 1997     73\n",
       "Shareef Abdur-Rahim 1997    81\n",
       "Cory Alexander 1997         73\n",
       "Jerome Allen 1997           76\n",
       "Ray Allen 1997              77\n",
       "                            ..\n",
       "Delon Wright 2020           77\n",
       "Thaddeus Young 2020         80\n",
       "Trae Young 2020             73\n",
       "Cody Zeller 2020            84\n",
       "Ivica Zubac 2020            84\n",
       "Name: height, Length: 7363, dtype: int64"
      ]
     },
     "execution_count": 128,
     "metadata": {},
     "output_type": "execute_result"
    }
   ],
   "source": [
    "df_clean['height']"
   ]
  },
  {
   "cell_type": "code",
   "execution_count": 129,
   "metadata": {},
   "outputs": [
    {
     "data": {
      "text/plain": [
       "['nationality',\n",
       " 'pct_c',\n",
       " 'pct_pf',\n",
       " 'pct_pg',\n",
       " 'pct_sf',\n",
       " 'pct_sg',\n",
       " 'player_id',\n",
       " 'pos',\n",
       " 'salary',\n",
       " 'team_id']"
      ]
     },
     "execution_count": 129,
     "metadata": {},
     "output_type": "execute_result"
    }
   ],
   "source": [
    "sorted(df_clean.select_dtypes('O').columns)"
   ]
  },
  {
   "cell_type": "markdown",
   "metadata": {},
   "source": [
    "## Convert position percent to floats from str"
   ]
  },
  {
   "cell_type": "code",
   "execution_count": 130,
   "metadata": {},
   "outputs": [
    {
     "data": {
      "text/plain": [
       "pct_c     0.0\n",
       "pct_pf    0.0\n",
       "pct_pg    89%\n",
       "pct_sf    0.0\n",
       "pct_sg    11%\n",
       "Name: Mahmoud Abdul-Rauf 1997, dtype: object"
      ]
     },
     "execution_count": 130,
     "metadata": {},
     "output_type": "execute_result"
    }
   ],
   "source": [
    "df_clean[position_pct_cols].iloc[0]"
   ]
  },
  {
   "cell_type": "code",
   "execution_count": 131,
   "metadata": {},
   "outputs": [],
   "source": [
    "position_pct_cols = ['pct_c',\n",
    "                     'pct_pf',\n",
    "                     'pct_pg',\n",
    "                     'pct_sf',\n",
    "                     'pct_sg',]\n",
    "\n",
    "def pct_to_float(series):\n",
    "    return series.apply(lambda x: float(x.strip('%')))\n",
    "\n",
    "## One-liner\n",
    "df_clean.loc[:, position_pct_cols] = df_clean[position_pct_cols].apply(lambda series: series.apply(lambda x: float(x.strip('%'))))"
   ]
  },
  {
   "cell_type": "code",
   "execution_count": 132,
   "metadata": {},
   "outputs": [
    {
     "data": {
      "text/plain": [
       "pct_c      0.0\n",
       "pct_pf     0.0\n",
       "pct_pg    89.0\n",
       "pct_sf     0.0\n",
       "pct_sg    11.0\n",
       "Name: Mahmoud Abdul-Rauf 1997, dtype: float64"
      ]
     },
     "execution_count": 132,
     "metadata": {},
     "output_type": "execute_result"
    }
   ],
   "source": [
    "## check that it worked:\n",
    "df_clean[position_pct_cols].iloc[0]"
   ]
  },
  {
   "cell_type": "code",
   "execution_count": 134,
   "metadata": {},
   "outputs": [
    {
     "data": {
      "text/plain": [
       "(7363, 91)"
      ]
     },
     "execution_count": 134,
     "metadata": {},
     "output_type": "execute_result"
    }
   ],
   "source": [
    "df_clean.shape"
   ]
  },
  {
   "cell_type": "code",
   "execution_count": 133,
   "metadata": {},
   "outputs": [],
   "source": [
    "df_clean.to_csv('bballref_data/clean_1997_to_2020.csv')"
   ]
  },
  {
   "cell_type": "code",
   "execution_count": null,
   "metadata": {},
   "outputs": [],
   "source": []
  }
 ],
 "metadata": {
  "kernelspec": {
   "display_name": "nba",
   "language": "python",
   "name": "nba"
  },
  "language_info": {
   "codemirror_mode": {
    "name": "ipython",
    "version": 3
   },
   "file_extension": ".py",
   "mimetype": "text/x-python",
   "name": "python",
   "nbconvert_exporter": "python",
   "pygments_lexer": "ipython3",
   "version": "3.8.5"
  }
 },
 "nbformat": 4,
 "nbformat_minor": 4
}
