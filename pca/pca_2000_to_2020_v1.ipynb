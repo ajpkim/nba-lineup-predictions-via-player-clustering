{
 "cells": [
  {
   "cell_type": "code",
   "execution_count": 1,
   "metadata": {},
   "outputs": [],
   "source": [
    "import pandas as pd\n",
    "import numpy as np\n",
    "import sklearn\n",
    "from sklearn.decomposition import PCA\n",
    "from sklearn.preprocessing import StandardScaler\n",
    "import matplotlib.pyplot as plt\n",
    "%matplotlib inline\n",
    "import seaborn as sns; sns.set()\n",
    "\n",
    "seed = 3\n",
    "\n",
    "# from IPython.core.interactiveshell import InteractiveShell\n",
    "# InteractiveShell.ast_node_interactivity = \"all\""
   ]
  },
  {
   "cell_type": "markdown",
   "metadata": {},
   "source": [
    "# Decide on columns and run pca, save transformed data"
   ]
  },
  {
   "cell_type": "code",
   "execution_count": 3,
   "metadata": {},
   "outputs": [
    {
     "data": {
      "text/plain": [
       "(6541, 71)"
      ]
     },
     "execution_count": 3,
     "metadata": {},
     "output_type": "execute_result"
    }
   ],
   "source": [
    "df = pd.read_csv('../bballref_data/scaled_2000_to_2020.csv', index_col=0)\n",
    "df.shape"
   ]
  },
  {
   "cell_type": "code",
   "execution_count": 4,
   "metadata": {},
   "outputs": [
    {
     "data": {
      "text/plain": [
       "['age',\n",
       " 'and1s_per_min',\n",
       " 'ast_pct',\n",
       " 'astd_pts_per_min',\n",
       " 'avg_dist',\n",
       " 'blk_pct',\n",
       " 'bpm',\n",
       " 'dbpm',\n",
       " 'def_rtg',\n",
       " 'drawn_shooting_per_min',\n",
       " 'drb_pct',\n",
       " 'fg2_pct',\n",
       " 'fg2_per_poss',\n",
       " 'fg2a_per_poss',\n",
       " 'fg3_heave',\n",
       " 'fg3_pct',\n",
       " 'fg3_per_poss',\n",
       " 'fg3a_heave',\n",
       " 'fg3a_per_poss',\n",
       " 'fg_dunk_per_min',\n",
       " 'fg_pct',\n",
       " 'fg_pct_00_03',\n",
       " 'fg_pct_03_10',\n",
       " 'fg_pct_10_16',\n",
       " 'fg_pct_16_xx',\n",
       " 'fg_pct_corner3',\n",
       " 'fg_per_poss',\n",
       " 'fga_per_poss',\n",
       " 'fouls_offensive_per_min',\n",
       " 'fouls_shooting_per_min',\n",
       " 'ft_pct',\n",
       " 'ft_per_poss',\n",
       " 'fta_per_fga_pct',\n",
       " 'fta_per_poss',\n",
       " 'g',\n",
       " 'gs',\n",
       " 'height',\n",
       " 'mp',\n",
       " 'obpm',\n",
       " 'off_rtg',\n",
       " 'orb_pct',\n",
       " 'own_shots_blk_per_min',\n",
       " 'pct_ast_fg2',\n",
       " 'pct_ast_fg3',\n",
       " 'pct_c',\n",
       " 'pct_fg3a_corner3',\n",
       " 'pct_fga_00_03',\n",
       " 'pct_fga_03_10',\n",
       " 'pct_fga_10_16',\n",
       " 'pct_fga_16_xx',\n",
       " 'pct_fga_dunk',\n",
       " 'pct_fga_fg3a',\n",
       " 'pct_pf',\n",
       " 'pct_pg',\n",
       " 'pct_sf',\n",
       " 'pct_sg',\n",
       " 'per',\n",
       " 'pf_per_poss',\n",
       " 'plus_minus_net',\n",
       " 'plus_minus_on',\n",
       " 'pts_per_poss',\n",
       " 'stl_pct',\n",
       " 'tov_bad_pass_per_min',\n",
       " 'tov_lost_ball_per_min',\n",
       " 'tov_pct',\n",
       " 'trb_pct',\n",
       " 'ts_pct',\n",
       " 'usg_pct',\n",
       " 'vorp',\n",
       " 'weight',\n",
       " 'year']"
      ]
     },
     "execution_count": 4,
     "metadata": {},
     "output_type": "execute_result"
    }
   ],
   "source": [
    "sorted(df.columns)\n",
    "\n",
    "## Cols to drop"
   ]
  },
  {
   "cell_type": "code",
   "execution_count": 7,
   "metadata": {},
   "outputs": [
    {
     "data": {
      "text/plain": [
       "(6541, 57)"
      ]
     },
     "execution_count": 7,
     "metadata": {},
     "output_type": "execute_result"
    }
   ],
   "source": [
    "df = pd.read_csv('../bballref_data/scaled_2000_to_2020.csv', index_col=0)\n",
    "drop_cols = ['age',\n",
    "             'pct_c',\n",
    "             'pct_pf',\n",
    "             'pct_pg',\n",
    "             'pct_sf',\n",
    "             'pct_sg',\n",
    "             'year',\n",
    "             'fg_dunk_per_min',\n",
    "             'fg3_heave',\n",
    "             'fg3a_heave',\n",
    "             'fg_per_poss',  # already have fg2 per poss and fg3 per poss\n",
    "             'fg_pct',  # already have %s for fg 2s and 3s as well as all the location %s and ts%\n",
    "             'plus_minus_on',\n",
    "             'plus_minus_net',\n",
    "             \n",
    "            ]\n",
    "df = df.drop(drop_cols, axis=1)\n",
    "df.shape"
   ]
  },
  {
   "cell_type": "code",
   "execution_count": 8,
   "metadata": {},
   "outputs": [
    {
     "data": {
      "text/plain": [
       "['and1s_per_min',\n",
       " 'ast_pct',\n",
       " 'astd_pts_per_min',\n",
       " 'avg_dist',\n",
       " 'blk_pct',\n",
       " 'bpm',\n",
       " 'dbpm',\n",
       " 'def_rtg',\n",
       " 'drawn_shooting_per_min',\n",
       " 'drb_pct',\n",
       " 'fg2_pct',\n",
       " 'fg2_per_poss',\n",
       " 'fg2a_per_poss',\n",
       " 'fg3_pct',\n",
       " 'fg3_per_poss',\n",
       " 'fg3a_per_poss',\n",
       " 'fg_pct_00_03',\n",
       " 'fg_pct_03_10',\n",
       " 'fg_pct_10_16',\n",
       " 'fg_pct_16_xx',\n",
       " 'fg_pct_corner3',\n",
       " 'fga_per_poss',\n",
       " 'fouls_offensive_per_min',\n",
       " 'fouls_shooting_per_min',\n",
       " 'ft_pct',\n",
       " 'ft_per_poss',\n",
       " 'fta_per_fga_pct',\n",
       " 'fta_per_poss',\n",
       " 'g',\n",
       " 'gs',\n",
       " 'height',\n",
       " 'mp',\n",
       " 'obpm',\n",
       " 'off_rtg',\n",
       " 'orb_pct',\n",
       " 'own_shots_blk_per_min',\n",
       " 'pct_ast_fg2',\n",
       " 'pct_ast_fg3',\n",
       " 'pct_fg3a_corner3',\n",
       " 'pct_fga_00_03',\n",
       " 'pct_fga_03_10',\n",
       " 'pct_fga_10_16',\n",
       " 'pct_fga_16_xx',\n",
       " 'pct_fga_dunk',\n",
       " 'pct_fga_fg3a',\n",
       " 'per',\n",
       " 'pf_per_poss',\n",
       " 'pts_per_poss',\n",
       " 'stl_pct',\n",
       " 'tov_bad_pass_per_min',\n",
       " 'tov_lost_ball_per_min',\n",
       " 'tov_pct',\n",
       " 'trb_pct',\n",
       " 'ts_pct',\n",
       " 'usg_pct',\n",
       " 'vorp',\n",
       " 'weight']"
      ]
     },
     "execution_count": 8,
     "metadata": {},
     "output_type": "execute_result"
    }
   ],
   "source": [
    "sorted(df.columns)"
   ]
  },
  {
   "cell_type": "code",
   "execution_count": 9,
   "metadata": {},
   "outputs": [],
   "source": [
    "df.to_csv('../bballref_data/pre_pca_2000_to_2020.csv')"
   ]
  },
  {
   "cell_type": "markdown",
   "metadata": {},
   "source": [
    "## Run pca, see explained variance wrt # principal components"
   ]
  },
  {
   "cell_type": "code",
   "execution_count": 10,
   "metadata": {},
   "outputs": [
    {
     "data": {
      "image/png": "[encoded data removed]",
      "text/plain": [
       "<Figure size 432x288 with 1 Axes>"
      ]
     },
     "metadata": {},
     "output_type": "display_data"
    }
   ],
   "source": [
    "df = pd.read_csv('../bballref_data/pre_pca_2000_to_2020.csv', index_col=0)\n",
    "pca = PCA(random_state=seed)\n",
    "pca.fit(df)\n",
    "\n",
    "cumulative_exp_var = pca.explained_variance_ratio_.cumsum()\n",
    "\n",
    "s = sns.scatterplot(data=cumulative_exp_var)\n",
    "s.set_title('Cumulative explained variance for principal components', fontsize=14)\n",
    "s.set_xlabel('Number of principal components')\n",
    "s.set_ylabel('Cumulative explained variance')\n",
    "plt.tight_layout()"
   ]
  },
  {
   "cell_type": "code",
   "execution_count": 11,
   "metadata": {},
   "outputs": [
    {
     "name": "stdout",
     "output_type": "stream",
     "text": [
      "0 :  0.2613260594964564\n",
      "1 :  0.45859855131955696\n",
      "2 :  0.5474428126667434\n",
      "3 :  0.6083568266027245\n",
      "4 :  0.6566127495976756\n",
      "5 :  0.6927797049633941\n",
      "6 :  0.723388236817791\n",
      "7 :  0.7505605220045497\n",
      "8 :  0.7738017019626897\n",
      "9 :  0.7948572788907301\n",
      "10 :  0.8114317923187947\n",
      "11 :  0.8269490186436359\n",
      "12 :  0.8412726554538948\n",
      "13 :  0.855446896147291\n",
      "14 :  0.8677738562928293\n",
      "15 :  0.8793243763772791\n",
      "16 :  0.8896242043227344\n",
      "17 :  0.8991860022838531\n",
      "18 :  0.9081779471690757\n",
      "19 :  0.9169909561384206\n",
      "20 :  0.9252210334646724\n",
      "21 :  0.9327846218138663\n",
      "22 :  0.9401929745523525\n",
      "23 :  0.9463923605673766\n",
      "24 :  0.952334608964662\n",
      "25 :  0.9574474722100752\n",
      "26 :  0.9625124801912376\n",
      "27 :  0.966824775206113\n",
      "28 :  0.9709677192142953\n",
      "29 :  0.9748234180719012\n",
      "30 :  0.9783195526421231\n",
      "31 :  0.9812559337969176\n",
      "32 :  0.9840651068060383\n",
      "33 :  0.9865271466481175\n",
      "34 :  0.9883040042505694\n",
      "35 :  0.9899692251552576\n",
      "36 :  0.991503038535349\n",
      "37 :  0.992912502804137\n",
      "38 :  0.9942235575027343\n",
      "39 :  0.9952447797461879\n",
      "40 :  0.9961430262299859\n",
      "41 :  0.9969122938556739\n",
      "42 :  0.9975548854042847\n",
      "43 :  0.9981065574054403\n",
      "44 :  0.99865013207323\n",
      "45 :  0.9990960549954434\n",
      "46 :  0.9994019885939093\n",
      "47 :  0.9996132972581008\n",
      "48 :  0.9997428050958689\n",
      "49 :  0.9998328858921143\n",
      "50 :  0.9998892180688825\n",
      "51 :  0.9999216230387813\n",
      "52 :  0.9999509460166512\n",
      "53 :  0.9999793283337618\n",
      "54 :  0.9999965580111324\n",
      "55 :  0.9999997625231706\n",
      "56 :  1.0000000000000002\n"
     ]
    }
   ],
   "source": [
    "for i, exp_var in enumerate(cumulative_exp_var):\n",
    "    print(i, ': ', exp_var)"
   ]
  },
  {
   "cell_type": "markdown",
   "metadata": {},
   "source": [
    "### Thresholds\n",
    "- 90% : 19\n",
    "- 95% : 25\n",
    "- 99% : 37\n",
    "- 99.9% : 48"
   ]
  },
  {
   "cell_type": "markdown",
   "metadata": {},
   "source": [
    "## Run pca with 99% var"
   ]
  },
  {
   "cell_type": "code",
   "execution_count": 12,
   "metadata": {},
   "outputs": [
    {
     "name": "stdout",
     "output_type": "stream",
     "text": [
      "37\n"
     ]
    }
   ],
   "source": [
    "pca = PCA(0.99, random_state=seed)\n",
    "df = pd.read_csv('../bballref_data/pre_pca_2000_to_2020.csv', index_col=0)\n",
    "pca_data = pca.fit_transform(df)\n",
    "print(pca.n_components_)\n",
    "df_pca = pd.DataFrame(pca_data, index=df.index, columns=[f'pc_{n}' for n in range(pca.n_components_)])\n",
    "df_pca.to_csv('../bballref_data/pca99_2000_to_2020.csv')"
   ]
  },
  {
   "cell_type": "markdown",
   "metadata": {},
   "source": [
    "# Worksheet below"
   ]
  },
  {
   "cell_type": "markdown",
   "metadata": {},
   "source": [
    "## Add back in Charges drawn as data starts in 2000"
   ]
  },
  {
   "cell_type": "code",
   "execution_count": 14,
   "metadata": {},
   "outputs": [
    {
     "data": {
      "text/plain": [
       "(11162, 92)"
      ]
     },
     "execution_count": 14,
     "metadata": {},
     "output_type": "execute_result"
    }
   ],
   "source": [
    "df_master = pd.read_csv('bballref_data/master_raw_nba_data.csv', index_col=0)\n",
    "df_master.shape"
   ]
  },
  {
   "cell_type": "code",
   "execution_count": 24,
   "metadata": {},
   "outputs": [
    {
     "data": {
      "text/plain": [
       "(6542, 92)"
      ]
     },
     "execution_count": 24,
     "metadata": {},
     "output_type": "execute_result"
    }
   ],
   "source": [
    "df_master_2000 = df_master.loc[df.index, :]\n",
    "df_master_2000.shape\n",
    "\n",
    "df = df.merge(df_master_2000['drawn_offensive'], left_index=True, right_index=True)"
   ]
  },
  {
   "cell_type": "code",
   "execution_count": 26,
   "metadata": {},
   "outputs": [
    {
     "data": {
      "text/plain": [
       "(6542, 66)"
      ]
     },
     "execution_count": 26,
     "metadata": {},
     "output_type": "execute_result"
    },
    {
     "data": {
      "text/plain": [
       "1486"
      ]
     },
     "execution_count": 26,
     "metadata": {},
     "output_type": "execute_result"
    }
   ],
   "source": [
    "df.shape\n",
    "df['drawn_offensive'].isna().sum()"
   ]
  },
  {
   "cell_type": "code",
   "execution_count": null,
   "metadata": {},
   "outputs": [],
   "source": []
  }
 ],
 "metadata": {
  "kernelspec": {
   "display_name": "nba",
   "language": "python",
   "name": "nba"
  },
  "language_info": {
   "codemirror_mode": {
    "name": "ipython",
    "version": 3
   },
   "file_extension": ".py",
   "mimetype": "text/x-python",
   "name": "python",
   "nbconvert_exporter": "python",
   "pygments_lexer": "ipython3",
   "version": "3.8.5"
  }
 },
 "nbformat": 4,
 "nbformat_minor": 4
}
